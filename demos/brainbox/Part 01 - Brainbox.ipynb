{
 "cells": [
  {
   "cell_type": "markdown",
   "id": "c3a57b88-cef2-4846-8d42-7c66ab0daac8",
   "metadata": {},
   "source": [
    "## Introduction"
   ]
  },
  {
   "cell_type": "markdown",
   "id": "379ba46e-5606-4bbd-9f0f-63676595f7bc",
   "metadata": {},
   "source": [
    "Brainbox is a service that:\n",
    "\n",
    "* hosts _Deciders_, representations of ML-services, such as Oobabooga or Automatic1111.\n",
    "* provides a unified API access to the deciders\n",
    "* starts and stops the deciders, managing the GPU load\n",
    "* queues incoming tasks and executes them asynchonously, storing results in a database.\n",
    "\n",
    "BrainBox is supposed to be constantly on a GPU machine and execute the tasks when it's not busy. \n",
    "\n",
    "Let's configure a local BrainBox and run some tasks on it. "
   ]
  },
  {
   "cell_type": "code",
   "execution_count": 1,
   "id": "53781ec9-e125-4c34-a11e-7870280d5f16",
   "metadata": {},
   "outputs": [],
   "source": [
    "from kaia.brainbox import BrainBoxSettings, BrainBoxTestApi, BrainBoxTask\n",
    "from kaia.brainbox.deciders.fake_image_generator import FakeImageDecider\n",
    "\n",
    "#Dict of decider is needed to build a correspondence between the name and the type of the decider\n",
    "deciders = {'FakeAutomatic1111': FakeImageDecider()}\n",
    "\n",
    "#Setting contain various settings of everything ML-related, including the settings of the supported models. We can alter these settings\n",
    "settings = BrainBoxSettings()\n",
    "settings.brain_box_web_port = 8091\n",
    "\n",
    "#This line boots up brainbox in a testmode. It will work as a real webserver, and will be brought down after the `with` scope.\n",
    "with BrainBoxTestApi(deciders) as api:\n",
    "    task = BrainBoxTask(id = BrainBoxTask.safe_id(), decider = 'FakeAutomatic1111', arguments = dict(prompt='Some prompt'), decider_method = None)\n",
    "    result = api.execute(task)\n",
    "    files = [api.download(filename) for filename in result]"
   ]
  },
  {
   "cell_type": "markdown",
   "id": "3d53e5c2-4120-4812-98c0-75f77b09fcf8",
   "metadata": {},
   "source": [
    "To run the task, BrainBox determines the appropriate decider and runs einther `__call__` (if `decider_method` is None, which is a default), or a specified method. `arguments` are passed to this method.\n",
    "\n",
    "FakeImageDecider, as well as Automatic1111, returns the list of files' names:"
   ]
  },
  {
   "cell_type": "code",
   "execution_count": 5,
   "id": "0c805071-eb16-4394-b3d0-46efc3eb45f1",
   "metadata": {},
   "outputs": [
    {
     "data": {
      "text/plain": [
       "['938f0aef-2088-4c32-bef3-6b62c7b2db32.json',\n",
       " 'fff11351-9fd5-4662-ab94-fc2840a18093.json',\n",
       " '64945b19-6ef0-4fb1-a050-679da981c459.json',\n",
       " 'cff611bc-385d-42a5-84fd-0c890be38f8e.json']"
      ]
     },
     "execution_count": 5,
     "metadata": {},
     "output_type": "execute_result"
    }
   ],
   "source": [
    "result"
   ]
  },
  {
   "cell_type": "markdown",
   "id": "d72891b3-c3bf-4d06-8952-e68c2a7ac44b",
   "metadata": {},
   "source": [
    "`execute` method can also accept a list of tasks, in this case `result` will be an array, each element containing the result of the corresponding task."
   ]
  },
  {
   "cell_type": "markdown",
   "id": "7fc64ed7-941f-4e06-ac47-fbf7b21012fc",
   "metadata": {},
   "source": [
    "The files are located within BrainBox cache, and Brainbox can be located on a different machine. This is why the files need to be downloaded. Let's view one of the downloaded files:"
   ]
  },
  {
   "cell_type": "code",
   "execution_count": 7,
   "id": "02268d8b-cfd7-4c7a-933d-096bc911f0b6",
   "metadata": {},
   "outputs": [
    {
     "data": {
      "text/plain": [
       "{'prompt': 'Some prompt', 'option_index': 0, 'model': None}"
      ]
     },
     "execution_count": 7,
     "metadata": {},
     "output_type": "execute_result"
    }
   ],
   "source": [
    "from kaia.infra import FileIO\n",
    "\n",
    "FileIO.read_json(files[0])"
   ]
  },
  {
   "cell_type": "markdown",
   "id": "e0c4e68a-e298-4c97-bada-c4c53a512a34",
   "metadata": {},
   "source": [
    "We can also execute tasks asyncronously:"
   ]
  },
  {
   "cell_type": "code",
   "execution_count": 8,
   "id": "98f083a2-c366-4795-9942-5f46f623bb5f",
   "metadata": {},
   "outputs": [
    {
     "name": "stdout",
     "output_type": "stream",
     "text": [
      "Do something while Brainbox is executing out task\n"
     ]
    },
    {
     "data": {
      "text/plain": [
       "['abe91c29-4c80-48e8-8f3d-43541b958ae8.json',\n",
       " 'b1912260-1762-4640-9f58-d14c2671b6c5.json',\n",
       " 'fb2924cf-49f9-4d86-b8da-9c5509feec70.json',\n",
       " '7bdde1c2-fab7-47c1-88ce-08a3eefb657d.json']"
      ]
     },
     "execution_count": 8,
     "metadata": {},
     "output_type": "execute_result"
    }
   ],
   "source": [
    "with BrainBoxTestApi(deciders) as api:\n",
    "    task = BrainBoxTask(id = BrainBoxTask.safe_id(), decider = 'FakeAutomatic1111', arguments = dict(prompt='Some prompt'))\n",
    "    api.add(task)\n",
    "    print('Do something while Brainbox is executing out task')\n",
    "    result = api.join(task)\n",
    "\n",
    "result"
   ]
  },
  {
   "cell_type": "markdown",
   "id": "b6042878-27f3-4aa1-953e-a77d0d6537a2",
   "metadata": {},
   "source": [
    "We can poll the task status:"
   ]
  },
  {
   "cell_type": "code",
   "execution_count": 13,
   "id": "8734f921-4d23-4a2b-bdfe-d9cb76cc737e",
   "metadata": {},
   "outputs": [
    {
     "name": "stdout",
     "output_type": "stream",
     "text": [
      "{'accepted': False,\n",
      " 'accepted_timestamp': None,\n",
      " 'arguments': {'prompt': 'Some prompt'},\n",
      " 'assigned': False,\n",
      " 'assigned_timestamp': None,\n",
      " 'back_track': None,\n",
      " 'batch': None,\n",
      " 'decider': 'FakeAutomatic1111',\n",
      " 'decider_parameters': None,\n",
      " 'dependencies': None,\n",
      " 'error': None,\n",
      " 'finished': False,\n",
      " 'finished_timestamp': None,\n",
      " 'id': 'id_ac967fb2ddba41a5866258c9de3d4516',\n",
      " 'log': None,\n",
      " 'method': None,\n",
      " 'progress': None,\n",
      " 'ready': False,\n",
      " 'ready_timestamp': None,\n",
      " 'received_timestamp': datetime.datetime(2024, 2, 13, 17, 35, 44, 172904),\n",
      " 'result': None,\n",
      " 'success': False}\n"
     ]
    }
   ],
   "source": [
    "from pprint import pformat\n",
    "\n",
    "with BrainBoxTestApi(deciders) as api:\n",
    "    task = BrainBoxTask(id = BrainBoxTask.safe_id(), decider = 'FakeAutomatic1111', arguments = dict(prompt='Some prompt'))\n",
    "    api.add(task)\n",
    "    job_state = api.get_job(task.id)\n",
    "    result = api.join(task)\n",
    "\n",
    "print(pformat({key:value for key, value in job_state.__dict__.items() if not key.startswith('_')}))"
   ]
  },
  {
   "cell_type": "markdown",
   "id": "9a019def-3fc9-47dd-a794-22c980de6c62",
   "metadata": {},
   "source": [
    "## Warming up and cooling down"
   ]
  },
  {
   "cell_type": "markdown",
   "id": "d88a298f-70ac-4fd3-804b-ef94355269a2",
   "metadata": {},
   "source": [
    "When decider warms up, it accepts a string parameter that may affect the decider. The most obvious use case for the parameter is a base model for Automatic1111 or Oobabooga. \n",
    "\n",
    "In this implementation, one cannot change the parameter of the running decider: it needs to be cooled down and then warmed up. Since the majority of time is anyways consumed to load the model, it's not a big problem.\n",
    "\n",
    "A `Planer` is used to determine which deciders to warm up or cool down, and also which tasks should be executed on the currently-up deciders. `SimpleDecider` which is used in `BrainBoxTestApi`, selects the decider for longest-waiting task, warms the decider up, executes all tasks that match this decider, and then cools the decider down. Other planners with more sophisticated logic can be implemented. \n",
    "\n",
    "Let's see how parameters work in action"
   ]
  },
  {
   "cell_type": "code",
   "execution_count": null,
   "id": "fe989501-c25c-455d-9705-753a55a350a8",
   "metadata": {},
   "outputs": [],
   "source": [
    "test_api = BrainBoxTestApi(deciders)\n",
    "with test_api as api:\n",
    "    tasks = []\n",
    "    for index in range(3):\n",
    "        for model in ['a','b','c']:\n",
    "            tasks.append(BrainBoxTask(\n",
    "                id = BrainBoxTask.safe_id(), \n",
    "                decider = 'FakeAutomatic1111', \n",
    "                arguments = dict(prompt=f'{model}/{index}'), \n",
    "                decider_parameters=model))\n",
    "    results = api.execute_tasks(tasks)\n",
    "    files = [api.download(result[0]) for result in results]"
   ]
  },
  {
   "cell_type": "code",
   "execution_count": null,
   "id": "e013351b-8a8b-4975-b514-0cf7a0222878",
   "metadata": {},
   "outputs": [],
   "source": [
    "import pandas as pd\n",
    "\n",
    "pd.DataFrame([FileIO.read_json(file) for file in files])"
   ]
  },
  {
   "cell_type": "markdown",
   "id": "47460fb1-4c16-4e02-83b8-8a2915a7b16b",
   "metadata": {},
   "source": [
    "We can see that indeed the tasks were called with different models. "
   ]
  },
  {
   "cell_type": "markdown",
   "id": "a1935c73-90b1-4ec0-b52e-b0bcb375b66f",
   "metadata": {},
   "source": [
    "## Media Libraries and tasks dependencies"
   ]
  },
  {
   "cell_type": "markdown",
   "id": "0796121a-0894-4dc3-8814-2cd6d57aeb44",
   "metadata": {},
   "source": [
    "In the on-premise hosting setup, we can't count on continuous availability of the GPU. Hence, a strategy can be to generate excess amount of content in advance. This scenario is supported in BrainBox with `Collector` decider and `MediaLibrary` format."
   ]
  },
  {
   "cell_type": "code",
   "execution_count": 14,
   "id": "167114e0-9c2c-426a-a840-2d22307636b1",
   "metadata": {},
   "outputs": [],
   "source": [
    "from kaia.brainbox.deciders.collector import Collector\n",
    "\n",
    "deciders = {'FakeAutomatic1111': FakeImageDecider(), 'Collector': Collector()}\n",
    "\n",
    "with BrainBoxTestApi(deciders) as api:\n",
    "    tags = {}\n",
    "    dependencies = {}\n",
    "    for i in range(5):\n",
    "        id = BrainBoxTask.safe_id()\n",
    "        tags[id] = dict(index=i)\n",
    "        dependencies[id] = id\n",
    "        api.add(BrainBoxTask(id = id, decider = 'FakeAutomatic1111', arguments = dict(prompt='Some prompt')))\n",
    "\n",
    "    collection_task = BrainBoxTask(id = BrainBoxTask.safe_id(), decider = 'Collector', dependencies = dependencies, arguments = dict(tags=tags))\n",
    "    result = api.execute([collection_task])\n",
    "    library = api.download(result[0])\n",
    "           "
   ]
  },
  {
   "cell_type": "markdown",
   "id": "3fd52945-dae1-4836-b0be-c3ffd5c61237",
   "metadata": {},
   "source": [
    "What happens here? BrainBox processes key-value pairs in `dependencies` by assigning the result of the task with id `value` to an argument of the decider's method with the name `key`. In our case, `key` equls `value`, but in other scenarios it may happen that the result of one decider must be injected as a particular argument to other decider, hence the dictionary. \n",
    "\n",
    "`Collector` then assembles all the outputs into one zip file, a media library. This media library also keeps tags, assotiated with the files. Collector can process any decider's output as long as it's a list of files."
   ]
  },
  {
   "cell_type": "code",
   "execution_count": 15,
   "id": "cd69b15e-575e-4c67-a42a-ca3fef660533",
   "metadata": {},
   "outputs": [
    {
     "data": {
      "text/html": [
       "<div>\n",
       "<style scoped>\n",
       "    .dataframe tbody tr th:only-of-type {\n",
       "        vertical-align: middle;\n",
       "    }\n",
       "\n",
       "    .dataframe tbody tr th {\n",
       "        vertical-align: top;\n",
       "    }\n",
       "\n",
       "    .dataframe thead th {\n",
       "        text-align: right;\n",
       "    }\n",
       "</style>\n",
       "<table border=\"1\" class=\"dataframe\">\n",
       "  <thead>\n",
       "    <tr style=\"text-align: right;\">\n",
       "      <th></th>\n",
       "      <th>index</th>\n",
       "      <th>option_index</th>\n",
       "      <th>filename</th>\n",
       "      <th>timestamp</th>\n",
       "      <th>job_id</th>\n",
       "    </tr>\n",
       "  </thead>\n",
       "  <tbody>\n",
       "    <tr>\n",
       "      <th>0</th>\n",
       "      <td>0</td>\n",
       "      <td>0</td>\n",
       "      <td>a3898697-15b5-4d53-a438-75c43e003160.json</td>\n",
       "      <td>2024-02-13 17:36:33.058262</td>\n",
       "      <td>id_7137120cab0942b2bd461bd2fcaaf0d4</td>\n",
       "    </tr>\n",
       "    <tr>\n",
       "      <th>1</th>\n",
       "      <td>0</td>\n",
       "      <td>1</td>\n",
       "      <td>400cf936-2f49-4a73-925e-316df92b0056.json</td>\n",
       "      <td>2024-02-13 17:36:33.058262</td>\n",
       "      <td>id_7137120cab0942b2bd461bd2fcaaf0d4</td>\n",
       "    </tr>\n",
       "    <tr>\n",
       "      <th>2</th>\n",
       "      <td>0</td>\n",
       "      <td>2</td>\n",
       "      <td>e14d313c-ba92-4f2a-b016-a084114da333.json</td>\n",
       "      <td>2024-02-13 17:36:33.058262</td>\n",
       "      <td>id_7137120cab0942b2bd461bd2fcaaf0d4</td>\n",
       "    </tr>\n",
       "    <tr>\n",
       "      <th>3</th>\n",
       "      <td>0</td>\n",
       "      <td>3</td>\n",
       "      <td>9662d21d-91ba-4a1b-8531-109d835cebd1.json</td>\n",
       "      <td>2024-02-13 17:36:33.058262</td>\n",
       "      <td>id_7137120cab0942b2bd461bd2fcaaf0d4</td>\n",
       "    </tr>\n",
       "    <tr>\n",
       "      <th>4</th>\n",
       "      <td>1</td>\n",
       "      <td>0</td>\n",
       "      <td>12de8566-02a3-4e27-b758-22d75c67eec3.json</td>\n",
       "      <td>2024-02-13 17:36:33.058262</td>\n",
       "      <td>id_a3bf479042ef42abb1f5baf7fadce038</td>\n",
       "    </tr>\n",
       "  </tbody>\n",
       "</table>\n",
       "</div>"
      ],
      "text/plain": [
       "   index  option_index                                   filename  \\\n",
       "0      0             0  a3898697-15b5-4d53-a438-75c43e003160.json   \n",
       "1      0             1  400cf936-2f49-4a73-925e-316df92b0056.json   \n",
       "2      0             2  e14d313c-ba92-4f2a-b016-a084114da333.json   \n",
       "3      0             3  9662d21d-91ba-4a1b-8531-109d835cebd1.json   \n",
       "4      1             0  12de8566-02a3-4e27-b758-22d75c67eec3.json   \n",
       "\n",
       "                   timestamp                               job_id  \n",
       "0 2024-02-13 17:36:33.058262  id_7137120cab0942b2bd461bd2fcaaf0d4  \n",
       "1 2024-02-13 17:36:33.058262  id_7137120cab0942b2bd461bd2fcaaf0d4  \n",
       "2 2024-02-13 17:36:33.058262  id_7137120cab0942b2bd461bd2fcaaf0d4  \n",
       "3 2024-02-13 17:36:33.058262  id_7137120cab0942b2bd461bd2fcaaf0d4  \n",
       "4 2024-02-13 17:36:33.058262  id_a3bf479042ef42abb1f5baf7fadce038  "
      ]
     },
     "execution_count": 15,
     "metadata": {},
     "output_type": "execute_result"
    }
   ],
   "source": [
    "from kaia.brainbox import MediaLibrary\n",
    "\n",
    "lib = MediaLibrary.read(library)\n",
    "lib.to_df().head(5)"
   ]
  },
  {
   "cell_type": "markdown",
   "id": "2da95b77-2d42-4b83-a737-f596f1474ade",
   "metadata": {},
   "source": [
    "The files can be extracted from the library:"
   ]
  },
  {
   "cell_type": "code",
   "execution_count": 16,
   "id": "9522634b-aff0-47c3-bb48-75e50a692368",
   "metadata": {},
   "outputs": [
    {
     "data": {
      "text/plain": [
       "b'{\\r\\n \"prompt\": \"Some prompt\",\\r\\n \"option_index\": 0,\\r\\n \"model\": null\\r\\n}'"
      ]
     },
     "execution_count": 16,
     "metadata": {},
     "output_type": "execute_result"
    }
   ],
   "source": [
    "lib.records[0].get_content()"
   ]
  },
  {
   "cell_type": "markdown",
   "id": "2475658a-ea3e-4772-a814-2cece515542d",
   "metadata": {},
   "source": [
    "## TaskPack\n",
    "\n",
    "The approach with `Collector` and `MediaLibrary` is very handy to generate content. Some additional syntax sugar was created to make this as easy as possible in the code. `BrainBoxTaskPack` allows you:\n",
    "* to define intermediate tasks that are required to complete the main, `resulting_task`\n",
    "* to define postprocessor that will be performed on the API side with the result: e.g., to download the file and to open it with `MediaLibrary.read`\n",
    "\n",
    "It is important to remember that all the pack-related functionality is performed by API, not by the BrainBox web-server."
   ]
  },
  {
   "cell_type": "code",
   "execution_count": 20,
   "id": "c4bfc7a0-9fa6-4cce-821d-7bb65d5616cf",
   "metadata": {},
   "outputs": [
    {
     "data": {
      "text/html": [
       "<div>\n",
       "<style scoped>\n",
       "    .dataframe tbody tr th:only-of-type {\n",
       "        vertical-align: middle;\n",
       "    }\n",
       "\n",
       "    .dataframe tbody tr th {\n",
       "        vertical-align: top;\n",
       "    }\n",
       "\n",
       "    .dataframe thead th {\n",
       "        text-align: right;\n",
       "    }\n",
       "</style>\n",
       "<table border=\"1\" class=\"dataframe\">\n",
       "  <thead>\n",
       "    <tr style=\"text-align: right;\">\n",
       "      <th></th>\n",
       "      <th>index</th>\n",
       "      <th>option_index</th>\n",
       "      <th>filename</th>\n",
       "      <th>timestamp</th>\n",
       "      <th>job_id</th>\n",
       "    </tr>\n",
       "  </thead>\n",
       "  <tbody>\n",
       "    <tr>\n",
       "      <th>0</th>\n",
       "      <td>0</td>\n",
       "      <td>0</td>\n",
       "      <td>14875720-b786-4a26-864c-0259df9cade5.json</td>\n",
       "      <td>2024-02-13 17:39:37.815175</td>\n",
       "      <td>id_ce0a60370ee34a1fb4f04de4e2288e0a</td>\n",
       "    </tr>\n",
       "    <tr>\n",
       "      <th>1</th>\n",
       "      <td>0</td>\n",
       "      <td>1</td>\n",
       "      <td>0a041718-d5f5-4948-b0ac-367a2380ae8f.json</td>\n",
       "      <td>2024-02-13 17:39:37.815175</td>\n",
       "      <td>id_ce0a60370ee34a1fb4f04de4e2288e0a</td>\n",
       "    </tr>\n",
       "    <tr>\n",
       "      <th>2</th>\n",
       "      <td>0</td>\n",
       "      <td>2</td>\n",
       "      <td>3e65dd83-9c2e-4776-ad60-e52fb515ae6a.json</td>\n",
       "      <td>2024-02-13 17:39:37.815175</td>\n",
       "      <td>id_ce0a60370ee34a1fb4f04de4e2288e0a</td>\n",
       "    </tr>\n",
       "    <tr>\n",
       "      <th>3</th>\n",
       "      <td>0</td>\n",
       "      <td>3</td>\n",
       "      <td>dd0fc506-6a2a-423e-94bd-91dc2cd2f688.json</td>\n",
       "      <td>2024-02-13 17:39:37.815175</td>\n",
       "      <td>id_ce0a60370ee34a1fb4f04de4e2288e0a</td>\n",
       "    </tr>\n",
       "    <tr>\n",
       "      <th>4</th>\n",
       "      <td>1</td>\n",
       "      <td>0</td>\n",
       "      <td>9b232f19-19e0-478a-90c7-7401a4a5b090.json</td>\n",
       "      <td>2024-02-13 17:39:37.815175</td>\n",
       "      <td>id_fa1877425e41496f8fac96970c09f0e6</td>\n",
       "    </tr>\n",
       "  </tbody>\n",
       "</table>\n",
       "</div>"
      ],
      "text/plain": [
       "   index  option_index                                   filename  \\\n",
       "0      0             0  14875720-b786-4a26-864c-0259df9cade5.json   \n",
       "1      0             1  0a041718-d5f5-4948-b0ac-367a2380ae8f.json   \n",
       "2      0             2  3e65dd83-9c2e-4776-ad60-e52fb515ae6a.json   \n",
       "3      0             3  dd0fc506-6a2a-423e-94bd-91dc2cd2f688.json   \n",
       "4      1             0  9b232f19-19e0-478a-90c7-7401a4a5b090.json   \n",
       "\n",
       "                   timestamp                               job_id  \n",
       "0 2024-02-13 17:39:37.815175  id_ce0a60370ee34a1fb4f04de4e2288e0a  \n",
       "1 2024-02-13 17:39:37.815175  id_ce0a60370ee34a1fb4f04de4e2288e0a  \n",
       "2 2024-02-13 17:39:37.815175  id_ce0a60370ee34a1fb4f04de4e2288e0a  \n",
       "3 2024-02-13 17:39:37.815175  id_ce0a60370ee34a1fb4f04de4e2288e0a  \n",
       "4 2024-02-13 17:39:37.815175  id_fa1877425e41496f8fac96970c09f0e6  "
      ]
     },
     "execution_count": 20,
     "metadata": {},
     "output_type": "execute_result"
    }
   ],
   "source": [
    "from kaia.brainbox import BrainBoxTaskPack, DownloadingPostprocessor\n",
    "\n",
    "tasks = []\n",
    "tags = {}\n",
    "dependencies = {}\n",
    "for i in range(5):\n",
    "    id = BrainBoxTask.safe_id()\n",
    "    tags[id] = dict(index=i)\n",
    "    dependencies[id] = id\n",
    "    tasks.append(BrainBoxTask(id = id, decider = 'FakeAutomatic1111', arguments = dict(prompt='Some prompt')))\n",
    "\n",
    "collection_task = BrainBoxTask(id = BrainBoxTask.safe_id(), decider = 'Collector', dependencies = dependencies, arguments = dict(tags=tags))\n",
    "\n",
    "pack = BrainBoxTaskPack(\n",
    "    collection_task, \n",
    "    tuple(tasks),\n",
    "    DownloadingPostprocessor(opener=MediaLibrary.read)\n",
    ")\n",
    "\n",
    "with BrainBoxTestApi(deciders) as api:\n",
    "    lib = api.execute(pack)\n",
    "\n",
    "lib.to_df().head()"
   ]
  },
  {
   "cell_type": "markdown",
   "id": "a9a48523-d2e0-4a0d-9bf1-a22ef4fa7aff",
   "metadata": {},
   "source": [
    "BrainBoxTaskPack is a handy way of representing complex task networks in your applications and then work with a single-liner `api.execute` to obtain the programmatical representation of the result in the application."
   ]
  },
  {
   "cell_type": "markdown",
   "id": "919eddc6-0966-4e5e-9f23-3a716257f6e3",
   "metadata": {},
   "source": [
    "# Outro\n",
    "\n",
    "In the following notebooks, installation instructions for the external models, used in BrainBox, are given. \n",
    "\n",
    "If you already have Oobaboga, Stable Diffusion or other models installed, you may need to configure the Deciders, providing in the settings the location, the path to environment's python, etc. If you choose to follow the supplied installation instructions, the default settings should work and you can start BrainBox with them just by running `kaia/brainbox/run_brain_box.py`\n",
    "\n",
    "Also, you may want to check from time to time that the deciders still work. To do that, use `kaia_tests/test_brainbox/model_integration_tests.py`"
   ]
  }
 ],
 "metadata": {
  "kernelspec": {
   "display_name": "Python 3 (ipykernel)",
   "language": "python",
   "name": "python3"
  },
  "language_info": {
   "codemirror_mode": {
    "name": "ipython",
    "version": 3
   },
   "file_extension": ".py",
   "mimetype": "text/x-python",
   "name": "python",
   "nbconvert_exporter": "python",
   "pygments_lexer": "ipython3",
   "version": "3.11.9"
  }
 },
 "nbformat": 4,
 "nbformat_minor": 5
}
