{
 "cells": [
  {
   "cell_type": "markdown",
   "id": "64fb1e72-8643-48e7-80f1-868857e3584f",
   "metadata": {},
   "source": [
    "## Docker-based deciders\n",
    "\n",
    "Since Kaia 2.1, we use docker-based deciders: we package code in containers instead of creating environments. Its is beneficial for the following reasons:\n",
    "\n",
    "* Installation of the code is streamlined, we use `.Dockerfile` instead of notebooks\n",
    "* The installation is OS-independent, which cannot really be achieved without containers\n",
    "* Sometimes the installation is much easier, as Linux is far superiour to, e.g. Windows, in terms of package management.\n",
    "* These containers are fully reusable outside of Kaia project.\n",
    "* When the time is right, we can scale the system with this approach.\n",
    "* All the models and other resources of the containers are centralized in corresponding resource folders, instead of being placed in random places in the filesystem.\n",
    "\n",
    "For each  the docker-based deciders, we have:\n",
    "* `Settings` class, containing various settings.\n",
    "* `Installer`, the class that creates or pulls the container, runs it in installation mode to pre-download all the models, and can also perform self-test.\n",
    "* `API`, an intermediate class between container itself and `Decider`. `API` allows you to make direct HTTP-requests to container outside of BrainBox infrastructure. Decider in this case just calls API and adopts the inputs and outputs to the BrainBox format.\n",
    "* `Decider`, a BrainBox-compatible decorator for the `API`.\n",
    "\n",
    "In addition, `Installer` is sometimes used for the side-containers, e.g. training containers or containers that are not supposed to be used with Brainbox.\n",
    "\n",
    "The following deciders are currently docker-based:\n",
    "\n",
    "* Speech-to-text:\n",
    "  * OpenTTS. This container is not built but pulled https://github.com/synesthesiam/opentts and the output's format is adopted for Brainbox.\n",
    "  * CoquiTTS. This container encapsulates CoquiTTS, most notably allowing access to fine-tuned models.\n",
    "  * TortoiseTTS. This container encapsulates TortoiseTTS. \n",
    "* Text-to-speech & NLU:\n",
    "  * Whisper\n",
    "  * SnipsNLU\n",
    "  * Rhasspy (used as Text-to-speech and NLU algorithm in the project).\n",
    "  \n",
    "In `kaia_tests/test_brainbox/integration` there is an integration test that installs all these models and runs self-test on them. \n",
    "\n",
    "Also, for these deciders, we have better a demo-friendly option: the BrainBoxTestCases. These cases allow to generate tasks, then BrainBox execute them all, and then the results are validated and shown in notebook. The TestCases are also defined in `kaia/brainbox/test_cases'. Here, only the result is shown."
   ]
  },
  {
   "cell_type": "code",
   "execution_count": 3,
   "id": "56fcfd8e-88a5-4c31-83ab-9dc89d71c24b",
   "metadata": {},
   "outputs": [
    {
     "data": {
      "application/vnd.jupyter.widget-view+json": {
       "model_id": "ca0923bcd01b439ca9b737d3c3375bdf",
       "version_major": 2,
       "version_minor": 0
      },
      "text/plain": [
       "VBox(children=(HTML(value='<b>TortoiseTTS/Whisper</b>'), VBox(children=(Label(value='Text for voiceover: The q…"
      ]
     },
     "execution_count": 3,
     "metadata": {},
     "output_type": "execute_result"
    }
   ],
   "source": [
    "from kaia.infra import FileIO, Loc\n",
    "from kaia.brainbox.test_cases.executer import draw_results\n",
    "from kaia.brainbox.test_cases.cases import create_cases\n",
    "\n",
    "data = FileIO.read_pickle('files/cases.pkl')\n",
    "draw_results(data, create_cases())"
   ]
  }
 ],
 "metadata": {
  "kernelspec": {
   "display_name": "Python 3 (ipykernel)",
   "language": "python",
   "name": "python3"
  },
  "language_info": {
   "codemirror_mode": {
    "name": "ipython",
    "version": 3
   },
   "file_extension": ".py",
   "mimetype": "text/x-python",
   "name": "python",
   "nbconvert_exporter": "python",
   "pygments_lexer": "ipython3",
   "version": "3.11.9"
  }
 },
 "nbformat": 4,
 "nbformat_minor": 5
}
