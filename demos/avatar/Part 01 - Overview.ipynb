{
 "cells": [
  {
   "cell_type": "markdown",
   "id": "c53519a1-9834-4200-b9bd-62ab5f70454d",
   "metadata": {},
   "source": [
    "`avatar` is a server that hosts your characters and provide the content related to them. \n",
    "In Home Assistant, `avatar` acts as a personalization layer: \n",
    "the outputs are comletely defined by the assistant logic, but the voice that is used for voiceover \n",
    "and the image that appears are provided by `avatar`.\n",
    "\n",
    "There are the following important topics in `avatar`:\n",
    "\n",
    "* `dubs`: a library that allows you to create templates that translate anything into strings and vice versa.\n",
    "  `dubs` take care about e.g. textual representations of numbers and dates.\n",
    "  They are used in voice assistant, but also to create prompts.\n",
    "  The name is rather unfortunate, because it's not really \"dub\", it's a \"voiceover\", but it's short and catchy.\n",
    "  `dubs` are also used to generate the grammars for `Rhasspy` - an open source voice-recognition software that we use to work with sound devices, translate speech to text and determine intents.\n",
    "\n",
    "* `narrator` is yet a very new library.\n",
    "  Its purpose it's to manage the character state, so the character lives its own life.\n",
    "  Currently, it's rather a centralized place to store the information about the character: what character is present right now, what's his voice, etc.\n",
    "\n",
    "* `server` is a web-server that exposes the character to another services. \n",
    "  "
   ]
  }
 ],
 "metadata": {
  "kernelspec": {
   "display_name": "Python 3 (ipykernel)",
   "language": "python",
   "name": "python3"
  },
  "language_info": {
   "codemirror_mode": {
    "name": "ipython",
    "version": 3
   },
   "file_extension": ".py",
   "mimetype": "text/x-python",
   "name": "python",
   "nbconvert_exporter": "python",
   "pygments_lexer": "ipython3",
   "version": "3.11.9"
  }
 },
 "nbformat": 4,
 "nbformat_minor": 5
}
