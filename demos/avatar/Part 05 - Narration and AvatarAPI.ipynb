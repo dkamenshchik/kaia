{
 "cells": [
  {
   "cell_type": "markdown",
   "id": "354ec8ef-9a33-48aa-bd6b-0b0fa9990955",
   "metadata": {},
   "source": [
    "## Narration\n",
    "\n",
    "Narration is yet small part of functionality that is going to be a huge extension point of the project. `INarrator` should:\n",
    "\n",
    "* Host the character's state as a dictionary of variables\n",
    "* Change this state by external commands from the console\n",
    "* Deduce the voice of the character for the `DubbingService` and tags to filter images in `ImageService` from the state\n",
    "* (in the future) autonomously change the state based on environment (time of day, day of the week, weather), thus making the character to live its own life inside Avatar service.\n",
    "\n",
    "The most obvious and already implemented test case for this state is the character itself: if we have multiple characters, the current character will be defined as a variable in the state, thus determining the voice and the appropriate images. `SimpleNarrator` does exactly this.\n"
   ]
  },
  {
   "cell_type": "code",
   "execution_count": 1,
   "id": "6e43735e-efbe-4fb7-920b-dd0ea8c35499",
   "metadata": {},
   "outputs": [],
   "source": [
    "from kaia.avatar.narrator import SimpleNarrator\n",
    "\n",
    "narrator = SimpleNarrator('Lina', {'Lina': 'p225', 'Jug': 'p229'})"
   ]
  },
  {
   "cell_type": "markdown",
   "id": "48dd69dc-e421-4e4d-ae4a-be2be29e4e8d",
   "metadata": {},
   "source": [
    "Now we can configure and test the whole Avatar web server. Note that Avatar server goes together with BrainBox, so we will have to write a scenario for the both services together."
   ]
  },
  {
   "cell_type": "code",
   "execution_count": 3,
   "id": "4431fba6-b594-433c-8054-b5bca05c3d6d",
   "metadata": {},
   "outputs": [],
   "source": [
    "from kaia.brainbox import BrainBox\n",
    "from kaia.avatar.server import BrainBoxDubbingService, AvatarSettings,  AvatarTestApi, AvatarSettings, ImageService, open_tts_task_generator, AnyImageStrategy\n",
    "from pathlib import Path\n",
    "from kaia.infra import Loc\n",
    "from ipywidgets import Audio, Image, VBox\n",
    "\n",
    "with BrainBox().create_test_api() as bb_api:\n",
    "    dubbing_service = BrainBoxDubbingService(open_tts_task_generator, bb_api)\n",
    "    with Loc.create_temp_file('demos','json') as feedback_file:\n",
    "        image_service = ImageService(AnyImageStrategy(), Path('files/image_library.zip'), feedback_file)\n",
    "        settings = AvatarSettings()\n",
    "        with AvatarTestApi(settings, narrator, dubbing_service, image_service) as api:\n",
    "            image_lina = api.image_get()\n",
    "            audio_lina = api.dub_string('Hello, my name is Lina')\n",
    "            api.state_change(dict(character='Jug'))\n",
    "            image_jug = api.image_get()\n",
    "            audio_jug = api.dub_string('Hello, my name is Jug')\n",
    "\n"
   ]
  },
  {
   "cell_type": "code",
   "execution_count": 4,
   "id": "37797411-299f-4cb3-91bb-9d6f60d3ed05",
   "metadata": {},
   "outputs": [
    {
     "data": {
      "application/vnd.jupyter.widget-view+json": {
       "model_id": "8803b7b161164e0397d0a5cc10952d93",
       "version_major": 2,
       "version_minor": 0
      },
      "text/plain": [
       "VBox(children=(Image(value=b'\\x89PNG\\r\\n\\x1a\\n\\x00\\x00\\x00\\rIHDR\\x00\\x00\\x02\\x00\\x00\\x00\\x02\\x00\\x08\\x02\\x00\\x…"
      ]
     },
     "execution_count": 4,
     "metadata": {},
     "output_type": "execute_result"
    }
   ],
   "source": [
    "VBox([\n",
    "    Image(value=image_lina.data, width=100, height=100),\n",
    "    Audio(value=audio_lina.data, autoplay=False),\n",
    "    Image(value=image_jug.data, width=100, height=100),\n",
    "    Audio(value=audio_jug.data, autoplay=False),\n",
    "])"
   ]
  }
 ],
 "metadata": {
  "kernelspec": {
   "display_name": "Python 3 (ipykernel)",
   "language": "python",
   "name": "python3"
  },
  "language_info": {
   "codemirror_mode": {
    "name": "ipython",
    "version": 3
   },
   "file_extension": ".py",
   "mimetype": "text/x-python",
   "name": "python",
   "nbconvert_exporter": "python",
   "pygments_lexer": "ipython3",
   "version": "3.11.9"
  }
 },
 "nbformat": 4,
 "nbformat_minor": 5
}
