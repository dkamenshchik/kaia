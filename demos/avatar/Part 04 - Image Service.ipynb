{
 "cells": [
  {
   "cell_type": "markdown",
   "id": "41fc5514-1435-496c-b3f7-1ba53a79a99a",
   "metadata": {},
   "source": [
    "Image service currently works with pre-computed MediaLibraries that contain images. \n",
    "\n",
    "The images are generated from _tags_, such as character name, a scene, time of the day, etc. These tags can be later used to filter the desired images. "
   ]
  },
  {
   "cell_type": "code",
   "execution_count": 1,
   "id": "aaf4bcf9-8b46-468b-b09b-caccdce2ae73",
   "metadata": {},
   "outputs": [],
   "source": [
    "models = {}\n",
    "character = {}\n",
    "negative = {}\n",
    "general = {}\n",
    "\n",
    "general['Lina'] = '(masterpiece:1.2), best quality, high resolution, unity 8k wallpaper, (illustration:0.8), (beautiful detailed eyes:1.6), extremely detailed face, perfect lighting, extremely detailed CG, (perfect hands, perfect anatomy)'\n",
    "models['Lina'] = 'models\\\\Stable-diffusion\\\\anyloraCheckpoint_novaeFp16.safetensors'\n",
    "character['Lina'] = 'dotalina, <lora:lina-lora-nochekaiser:0.7>, lina'\n",
    "\n",
    "\n",
    "general['Jug'] = 'detailed texture, ultra detailed, best quality, highres, photorealistic, raw, 8k,masterpiece, masterpiec8K.HDR'\n",
    "models['Jug'] = 'models\\\\Stable-diffusion\\\\dreamshaper_8.safetensors'\n",
    "character['Jug'] = '<lora:jugg:0.8> jugg, mask, upper body image'\n",
    "\n",
    "negative['Jug'] = negative['Lina'] = '(worst quality, low quality:1.4), (jpeg artifacts:1.4),greyscale, monochrome, motion blur, emphasis lines, text, title, logo, signature,bad_hands, bad eyes, bad-artist-anime, easynegative:1.3, slanted eyes'\n",
    "\n",
    "views = ['front view', 'side view']\n",
    "\n",
    "scenes = {\n",
    "    'outside': 'epic scene, outside, sundown, beautiful nature',\n",
    "    'magic': 'doing magic, fires, sparks, fire show',\n",
    "}"
   ]
  },
  {
   "cell_type": "markdown",
   "id": "97520ee8-bd1c-47ea-853d-4fc53bab42ba",
   "metadata": {},
   "source": [
    "Out tags will be character (`lina`) and the keys of `scenes` dictionary. First, we will use `Template` to transform tags to a prompt."
   ]
  },
  {
   "cell_type": "code",
   "execution_count": 2,
   "id": "575d7cd5-5983-4320-836e-3cab308c1af8",
   "metadata": {},
   "outputs": [
    {
     "name": "stdout",
     "output_type": "stream",
     "text": [
      "(masterpiece:1.2), best quality, high resolution, unity 8k wallpaper, (illustration:0.8), (beautiful detailed eyes:1.6), extremely detailed face, perfect lighting, extremely detailed CG, (perfect hands, perfect anatomy)\n",
      "dotalina, <lora:lina-lora-nochekaiser:0.7>, lina\n",
      "doing magic, fires, sparks, fire show\n",
      "front view\n"
     ]
    }
   ],
   "source": [
    "from kaia.avatar.dub.core import Template, ToStrDub, DictDub, IdentityDub, DictBinding\n",
    "\n",
    "image_prompt=Template(\n",
    "    \"{general}\\n{character}\\n{scene}\\n{view}\",\n",
    "    general = DictBinding('character', general),\n",
    "    character = DictDub(character),\n",
    "    scene = DictDub(scenes),\n",
    "    view = IdentityDub()\n",
    ")\n",
    "\n",
    "print(image_prompt.to_str(dict(character='Lina', scene='magic', view='front view')))"
   ]
  },
  {
   "cell_type": "markdown",
   "id": "66f24292-37b5-428d-bb2a-14e42ec8e9c7",
   "metadata": {},
   "source": [
    "Now, we use `PictureTaskGenerator` to transform prompt to task:"
   ]
  },
  {
   "cell_type": "code",
   "execution_count": 3,
   "id": "6239f1d8-e6c6-44e4-843e-13455e289ca9",
   "metadata": {},
   "outputs": [
    {
     "name": "stdout",
     "output_type": "stream",
     "text": [
      "{'arguments': {'batch_size': 2,\n",
      "               'negative_prompt': 'models\\\\Stable-diffusion\\\\anyloraCheckpoint_novaeFp16.safetensors',\n",
      "               'prompt': '(masterpiece:1.2), best quality, high resolution, '\n",
      "                         'unity 8k wallpaper, (illustration:0.8), (beautiful '\n",
      "                         'detailed eyes:1.6), extremely detailed face, perfect '\n",
      "                         'lighting, extremely detailed CG, (perfect hands, '\n",
      "                         'perfect anatomy)\\n'\n",
      "                         'dotalina, <lora:lina-lora-nochekaiser:0.7>, lina\\n'\n",
      "                         'doing magic, fires, sparks, fire show\\n'\n",
      "                         'front view'},\n",
      " 'back_track': None,\n",
      " 'batch': None,\n",
      " 'decider': 'Automatic1111',\n",
      " 'decider_method': None,\n",
      " 'decider_parameters': 'models\\\\Stable-diffusion\\\\anyloraCheckpoint_novaeFp16.safetensors',\n",
      " 'dependencies': None,\n",
      " 'id': 'id_f913dbc7e1544008b109d71a679285b7'}\n"
     ]
    }
   ],
   "source": [
    "from kaia.avatar.narrator import PictureTaskGenerator\n",
    "from kaia.brainbox import BrainBoxTask\n",
    "from pprint import pprint\n",
    "\n",
    "generator = PictureTaskGenerator(\n",
    "    prompt_template = image_prompt,\n",
    "    brain_box_task_template = BrainBoxTask.template(\n",
    "        decider='Automatic1111', \n",
    "        arguments=dict(batch_size=2), \n",
    "    ),\n",
    "    collecting_task_template = BrainBoxTask.template(decider='Collector'),\n",
    "    values_to_model = lambda v: models[v['character']],\n",
    "    values_to_negative = lambda v: models[v['character']]\n",
    ")\n",
    "\n",
    "pprint(generator.generate_task(dict(character='Lina', scene='magic', view='front view')).__dict__)"
   ]
  },
  {
   "cell_type": "markdown",
   "id": "8f182560-374c-4402-a86e-4ccf83e48ad8",
   "metadata": {},
   "source": [
    "Now we build a task pack:"
   ]
  },
  {
   "cell_type": "code",
   "execution_count": 4,
   "id": "62793696-5ef2-4b90-bc91-b5722dc80542",
   "metadata": {},
   "outputs": [],
   "source": [
    "tag_values = [\n",
    "    dict(character=c, scene=s, view=v)\n",
    "    for c in general\n",
    "    for s in scenes\n",
    "    for v in views\n",
    "]\n",
    "\n",
    "pack = generator.generate_task_pack(tag_values)"
   ]
  },
  {
   "cell_type": "code",
   "execution_count": 5,
   "id": "b1c2e822-2726-45d9-af81-16128f7108f0",
   "metadata": {},
   "outputs": [],
   "source": [
    "import os\n",
    "from pathlib import Path\n",
    "from kaia.brainbox import BrainBox, MediaLibrary\n",
    "\n",
    "media_library_path = Path('files/image_library.zip')\n",
    "\n",
    "os.makedirs(media_library_path.parent, exist_ok=True)\n",
    "if not media_library_path.is_file():\n",
    "    with BrainBox().create_test_api() as api:\n",
    "        lib = api.execute(pack)\n",
    "        if len(lib.records)>0:\n",
    "            lib.save(media_library_path)\n",
    "else:\n",
    "    lib = MediaLibrary.read(media_library_path)"
   ]
  },
  {
   "cell_type": "code",
   "execution_count": 6,
   "id": "ccbbcebc-3f65-4035-ae01-7df9e2002906",
   "metadata": {},
   "outputs": [
    {
     "data": {
      "application/vnd.jupyter.widget-view+json": {
       "model_id": "8a2eedcb87d845d58bc624c03d1c5aee",
       "version_major": 2,
       "version_minor": 0
      },
      "text/plain": [
       "HBox(children=(Image(value=b'\\x89PNG\\r\\n\\x1a\\n\\x00\\x00\\x00\\rIHDR\\x00\\x00\\x02\\x00\\x00\\x00\\x02\\x00\\x08\\x02\\x00\\x…"
      ]
     },
     "execution_count": 6,
     "metadata": {},
     "output_type": "execute_result"
    }
   ],
   "source": [
    "from ipywidgets import Image, HBox\n",
    "from yo_fluq_ds import *\n",
    "\n",
    "d = lib.to_dict()\n",
    "df = lib.to_df().feed(fluq.add_ordering_column(['character','scene'], 'filename')).feed(lambda z: z.loc[z.order==0])\n",
    "Query.en(df.filename).select(lambda z: Image(value = d[z].get_content())).feed(list, HBox)\n"
   ]
  },
  {
   "cell_type": "markdown",
   "id": "46e7dfae-06fa-41be-8685-466da6deebb5",
   "metadata": {},
   "source": [
    "These images aren't of the best quality (probably because the used Lora isn't, and because I didn't really pay much of attention to the prompt). However, they are suitable for the following demonstration."
   ]
  }
 ],
 "metadata": {
  "kernelspec": {
   "display_name": "Python 3 (ipykernel)",
   "language": "python",
   "name": "python3"
  },
  "language_info": {
   "codemirror_mode": {
    "name": "ipython",
    "version": 3
   },
   "file_extension": ".py",
   "mimetype": "text/x-python",
   "name": "python",
   "nbconvert_exporter": "python",
   "pygments_lexer": "ipython3",
   "version": "3.11.9"
  }
 },
 "nbformat": 4,
 "nbformat_minor": 5
}
