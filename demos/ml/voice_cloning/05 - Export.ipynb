{
 "cells": [
  {
   "cell_type": "markdown",
   "id": "3c40c82d-5c0e-40df-98d5-0ffcb92a045d",
   "metadata": {},
   "source": [
    "Now everything is set to export data from (several) annotations into one MediaLibrary, and run the container on this MediaLibrary. "
   ]
  },
  {
   "cell_type": "code",
   "execution_count": 1,
   "id": "83c74206-6d44-4378-8888-6e250cc3655b",
   "metadata": {},
   "outputs": [
    {
     "data": {
      "application/vnd.jupyter.widget-view+json": {
       "model_id": "fceab7ad1e0b4aae99a351fa0e922805",
       "version_major": 2,
       "version_minor": 0
      },
      "text/plain": [
       "  0%|          | 0/9 [00:00<?, ?it/s]"
      ]
     },
     "metadata": {},
     "output_type": "display_data"
    }
   ],
   "source": [
    "from pathlib import Path\n",
    "from kaia.ml.voice_cloning.data_prep.data_export import finalize_annotation\n",
    "from kaia.ml.voice_cloning.coqui_training_container import CoquiTrainingContainerSettings\n",
    "import os\n",
    "\n",
    "# Some symbol replacements: few symbols worked fine with Tortoise, but CoquiTTS refused to consume it, so it's a good place for the final fix\n",
    "replacements = {\n",
    "    '–': '-',\n",
    "    \"’\": \"'\",\n",
    "    '…': '...',\n",
    "    '\"': '',\n",
    "    '—':'-'\n",
    "} \n",
    "\n",
    "# If you're experimenting with the voices, you might have several version of one voice in different annotated MediaLibraries. \n",
    "# This will help merge them together\n",
    "voice_replacements = {\n",
    "}\n",
    "\n",
    "# You may have several media libraries, each coming with its own annotation file. This is how you merge everything\n",
    "lib_to_annotation = {\n",
    "    Path('files/voicelines.zip'): Path('files/annotation.txt')\n",
    "}\n",
    "\n",
    "settings = CoquiTrainingContainerSettings()\n",
    "os.makedirs(settings.resource_folder, exist_ok=True)\n",
    "dataset_location = settings.resource_folder/'dataset.zip'\n",
    "finalize_annotation(lib_to_annotation, dataset_location, replacements, voice_replacements)"
   ]
  },
  {
   "cell_type": "markdown",
   "id": "4430e34d-33e2-46d4-abac-0739cb2f7959",
   "metadata": {},
   "source": [
    "There is a couple of useful statistics. First, the total duration for each voice. If my experiments with YourTTS and VITS, 20 minutes was okayish-enough for YourTTS, and definitely enough for VITS. Since generating and annotating samples is hard, I'd recommend to start with maybe 10 minutes if you only plan to train VITS."
   ]
  },
  {
   "cell_type": "code",
   "execution_count": 5,
   "id": "055cb0ee-d6cd-442f-b2e8-7eeca869f654",
   "metadata": {},
   "outputs": [
    {
     "data": {
      "text/html": [
       "<div>\n",
       "<style scoped>\n",
       "    .dataframe tbody tr th:only-of-type {\n",
       "        vertical-align: middle;\n",
       "    }\n",
       "\n",
       "    .dataframe tbody tr th {\n",
       "        vertical-align: top;\n",
       "    }\n",
       "\n",
       "    .dataframe thead th {\n",
       "        text-align: right;\n",
       "    }\n",
       "</style>\n",
       "<table border=\"1\" class=\"dataframe\">\n",
       "  <thead>\n",
       "    <tr style=\"text-align: right;\">\n",
       "      <th></th>\n",
       "      <th>voice</th>\n",
       "      <th>text</th>\n",
       "      <th>option_index</th>\n",
       "      <th>origin</th>\n",
       "      <th>selected</th>\n",
       "      <th>mark</th>\n",
       "      <th>duration</th>\n",
       "      <th>filename</th>\n",
       "      <th>timestamp</th>\n",
       "      <th>job_id</th>\n",
       "    </tr>\n",
       "  </thead>\n",
       "  <tbody>\n",
       "    <tr>\n",
       "      <th>0</th>\n",
       "      <td>lina</td>\n",
       "      <td>Trollocs were usually cowards in their way, pr...</td>\n",
       "      <td>0</td>\n",
       "      <td>voicelines.zip</td>\n",
       "      <td>True</td>\n",
       "      <td>good</td>\n",
       "      <td>5.749333</td>\n",
       "      <td>8de83d10-129a-4c01-a738-17479ea8fc73.wav</td>\n",
       "      <td>2024-05-27 17:05:32.214947</td>\n",
       "      <td>id_1438b7bc60e44374963cd30343f87dc5</td>\n",
       "    </tr>\n",
       "    <tr>\n",
       "      <th>3</th>\n",
       "      <td>lina</td>\n",
       "      <td>The Deathwatch Guard has charge of my safety, ...</td>\n",
       "      <td>0</td>\n",
       "      <td>voicelines.zip</td>\n",
       "      <td>True</td>\n",
       "      <td>good</td>\n",
       "      <td>5.237333</td>\n",
       "      <td>2e0e6788-a923-4a26-a2b1-1fe03af3802b.wav</td>\n",
       "      <td>2024-05-27 17:05:32.214947</td>\n",
       "      <td>id_5ab1171984414b72a7e064664cf769b1</td>\n",
       "    </tr>\n",
       "    <tr>\n",
       "      <th>6</th>\n",
       "      <td>lina</td>\n",
       "      <td>Jhogo gave a pull on the whip, yanking Viserys...</td>\n",
       "      <td>0</td>\n",
       "      <td>voicelines.zip</td>\n",
       "      <td>True</td>\n",
       "      <td>good</td>\n",
       "      <td>5.152000</td>\n",
       "      <td>fecad6be-7fb9-43df-aea8-d4ba6c8e623d.wav</td>\n",
       "      <td>2024-05-27 17:05:32.214947</td>\n",
       "      <td>id_e78f2a86c3ad45aa87875ab93bae669b</td>\n",
       "    </tr>\n",
       "  </tbody>\n",
       "</table>\n",
       "</div>"
      ],
      "text/plain": [
       "  voice                                               text  option_index  \\\n",
       "0  lina  Trollocs were usually cowards in their way, pr...             0   \n",
       "3  lina  The Deathwatch Guard has charge of my safety, ...             0   \n",
       "6  lina  Jhogo gave a pull on the whip, yanking Viserys...             0   \n",
       "\n",
       "           origin  selected  mark  duration  \\\n",
       "0  voicelines.zip      True  good  5.749333   \n",
       "3  voicelines.zip      True  good  5.237333   \n",
       "6  voicelines.zip      True  good  5.152000   \n",
       "\n",
       "                                   filename                  timestamp  \\\n",
       "0  8de83d10-129a-4c01-a738-17479ea8fc73.wav 2024-05-27 17:05:32.214947   \n",
       "3  2e0e6788-a923-4a26-a2b1-1fe03af3802b.wav 2024-05-27 17:05:32.214947   \n",
       "6  fecad6be-7fb9-43df-aea8-d4ba6c8e623d.wav 2024-05-27 17:05:32.214947   \n",
       "\n",
       "                                job_id  \n",
       "0  id_1438b7bc60e44374963cd30343f87dc5  \n",
       "3  id_5ab1171984414b72a7e064664cf769b1  \n",
       "6  id_e78f2a86c3ad45aa87875ab93bae669b  "
      ]
     },
     "execution_count": 5,
     "metadata": {},
     "output_type": "execute_result"
    }
   ],
   "source": [
    "from kaia.brainbox import MediaLibrary\n",
    "\n",
    "lib = MediaLibrary.read(dataset_location)\n",
    "odf = lib.to_df()\n",
    "df = odf.loc[odf.selected]\n",
    "df.head()"
   ]
  },
  {
   "cell_type": "code",
   "execution_count": 6,
   "id": "9f7fda31-01ad-4232-b5d6-9ad60dee468d",
   "metadata": {},
   "outputs": [
    {
     "data": {
      "text/plain": [
       "voice\n",
       "lina    16.138667\n",
       "Name: duration, dtype: float64"
      ]
     },
     "execution_count": 6,
     "metadata": {},
     "output_type": "execute_result"
    }
   ],
   "source": [
    "df.groupby('voice').duration.sum()"
   ]
  },
  {
   "cell_type": "markdown",
   "id": "e92d48dd-a390-48cd-9f32-7004d7759024",
   "metadata": {},
   "source": [
    "And here is how you can check that all the phonemes and letters were covered, and how much. Obviously, since in the demo I only created a voicelines for 3 sentences, a lot is not covered. In my experiments, the minimal coverage was 20. Again, it might be possible with lesser amounts.\n",
    "\n",
    "Another thing is that __maybe__ we should introduce a phoneme/letter in the word's end position and stratify/measure for these variants separately. Silencing of the tailing letters is a huge problem in T"
   ]
  },
  {
   "cell_type": "code",
   "execution_count": 3,
   "id": "6f997822-1681-4ee5-9a66-d880207ebeaa",
   "metadata": {},
   "outputs": [],
   "source": [
    "from kaia.ml.voice_cloning.data_prep.data_export import dataset_features_statistics\n",
    "\n",
    "sdf = dataset_features_statistics('files/golden_set.json', df)"
   ]
  },
  {
   "cell_type": "code",
   "execution_count": 4,
   "id": "2cc5c858-34f3-4b55-ad05-149c2700a994",
   "metadata": {},
   "outputs": [
    {
     "data": {
      "text/html": [
       "<div>\n",
       "<style scoped>\n",
       "    .dataframe tbody tr th:only-of-type {\n",
       "        vertical-align: middle;\n",
       "    }\n",
       "\n",
       "    .dataframe tbody tr th {\n",
       "        vertical-align: top;\n",
       "    }\n",
       "\n",
       "    .dataframe thead th {\n",
       "        text-align: right;\n",
       "    }\n",
       "</style>\n",
       "<table border=\"1\" class=\"dataframe\">\n",
       "  <thead>\n",
       "    <tr style=\"text-align: right;\">\n",
       "      <th></th>\n",
       "      <th>feature</th>\n",
       "      <th>voice</th>\n",
       "      <th>cnt</th>\n",
       "    </tr>\n",
       "  </thead>\n",
       "  <tbody>\n",
       "    <tr>\n",
       "      <th>84</th>\n",
       "      <td>ᵻ</td>\n",
       "      <td>lina</td>\n",
       "      <td>0.0</td>\n",
       "    </tr>\n",
       "    <tr>\n",
       "      <th>37</th>\n",
       "      <td>iə</td>\n",
       "      <td>lina</td>\n",
       "      <td>0.0</td>\n",
       "    </tr>\n",
       "    <tr>\n",
       "      <th>28</th>\n",
       "      <td>aɪɚ</td>\n",
       "      <td>lina</td>\n",
       "      <td>0.0</td>\n",
       "    </tr>\n",
       "    <tr>\n",
       "      <th>27</th>\n",
       "      <td>aɪə</td>\n",
       "      <td>lina</td>\n",
       "      <td>0.0</td>\n",
       "    </tr>\n",
       "    <tr>\n",
       "      <th>25</th>\n",
       "      <td>_z</td>\n",
       "      <td>lina</td>\n",
       "      <td>0.0</td>\n",
       "    </tr>\n",
       "    <tr>\n",
       "      <th>23</th>\n",
       "      <td>_x</td>\n",
       "      <td>lina</td>\n",
       "      <td>0.0</td>\n",
       "    </tr>\n",
       "    <tr>\n",
       "      <th>44</th>\n",
       "      <td>n̩</td>\n",
       "      <td>lina</td>\n",
       "      <td>0.0</td>\n",
       "    </tr>\n",
       "    <tr>\n",
       "      <th>46</th>\n",
       "      <td>oː</td>\n",
       "      <td>lina</td>\n",
       "      <td>0.0</td>\n",
       "    </tr>\n",
       "    <tr>\n",
       "      <th>47</th>\n",
       "      <td>oːɹ</td>\n",
       "      <td>lina</td>\n",
       "      <td>0.0</td>\n",
       "    </tr>\n",
       "    <tr>\n",
       "      <th>63</th>\n",
       "      <td>ɔɪ</td>\n",
       "      <td>lina</td>\n",
       "      <td>0.0</td>\n",
       "    </tr>\n",
       "  </tbody>\n",
       "</table>\n",
       "</div>"
      ],
      "text/plain": [
       "   feature voice  cnt\n",
       "84       ᵻ  lina  0.0\n",
       "37      iə  lina  0.0\n",
       "28     aɪɚ  lina  0.0\n",
       "27     aɪə  lina  0.0\n",
       "25      _z  lina  0.0\n",
       "23      _x  lina  0.0\n",
       "44      n̩  lina  0.0\n",
       "46      oː  lina  0.0\n",
       "47     oːɹ  lina  0.0\n",
       "63      ɔɪ  lina  0.0"
      ]
     },
     "execution_count": 4,
     "metadata": {},
     "output_type": "execute_result"
    }
   ],
   "source": [
    "sdf.sort_values('cnt').head(10)"
   ]
  },
  {
   "cell_type": "markdown",
   "id": "70d98c92-2077-4420-a193-971612517d2f",
   "metadata": {},
   "source": [
    "With the resulting MediaLibrary, you may start the training. Alternatively, if you can redo the upsampling: in this case the media library can be passed to `generate_tasks` method to prevent repeating the upsampling for texts/voices for which an acceptable voiceline was found. "
   ]
  }
 ],
 "metadata": {
  "kernelspec": {
   "display_name": "Python 3 (ipykernel)",
   "language": "python",
   "name": "python3"
  },
  "language_info": {
   "codemirror_mode": {
    "name": "ipython",
    "version": 3
   },
   "file_extension": ".py",
   "mimetype": "text/x-python",
   "name": "python",
   "nbconvert_exporter": "python",
   "pygments_lexer": "ipython3",
   "version": "3.11.9"
  }
 },
 "nbformat": 4,
 "nbformat_minor": 5
}
