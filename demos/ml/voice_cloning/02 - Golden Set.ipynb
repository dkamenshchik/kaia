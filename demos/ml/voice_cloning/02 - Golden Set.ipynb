{
 "cells": [
  {
   "cell_type": "markdown",
   "id": "8497335c-b5b9-4f55-9585-5bd87e3b7daa",
   "metadata": {},
   "source": [
    "In this notebook, we will create a \"golden set\" of sentences, that need to be voiced over. There are certain requirements these sentences must follow.\n",
    "\n",
    "1. They shouldn't be too short or too long. The length of the sentence determines the length of the voiceline, and the maximal length of the voiceline determines how much memory will be consumed per voiceline on training.\n",
    "2. They shouldn't contain abbreviations, shortenings, etc. TortoiseTTS doesn't know how to pronounce those. Even the punctuation besides `,` and `.` is not advisable, because TortoiseTTS constantly mixes up long and short dashes: \"well-known\" can be pronounced as \"well, known\"\n",
    "3. They should not contain too much of the complicated words, such as `aminopyridine` or `bourgeoisie`. Tortoise often fails on those.\n",
    "4. They should not contain clearly non-English proper names. Tortoise will pronounce them in the most wildest way imaginable. Moreover, the Golden Dataset algorithm tries to equalize representation of the unusual phonemes, and as a result **all** the non-English names will be included in the Golden Dataset. \n",
    "\n",
    "2 and 3 effectively disqualifies Wikipedia, while 4 disqualifies most of the literature. In my experience, the best quality was achieved with The Song of Ice and Fire by R.G.G. Martin, who mostly uses English even for proper names. Robert Jordan was also acceptable, however, `Gawyn` or `Moghedien` are clearly beyond the requirement 4.\n",
    "\n",
    "You don't need to have a lot of sentences for that, I had just 40 Megabytes.\n",
    "\n",
    "Now, suppose someone gave you a 40 MB of text, one sentence per line and no weird symbols, and stored it in `Loc.data_folder/'text.txt'` You can use the following code to filter for length, to exclude lines with excessive punctuation and proper names.\n",
    "\n",
    "```python\n",
    "from kaia.ml.voice_cloning.golden_dataset.filtering import filter_file\n",
    "\n",
    "lines = filter_file(Loc.data_folder/'text.txt')\n",
    "\n",
    "FileIO.write_json(list(pd.Series(lines).sample(5000)), 'files/lines.json')\n",
    "```\n",
    "\n",
    "I did it, took 5000 random lines and placed in `files/lines.json`\n"
   ]
  },
  {
   "cell_type": "code",
   "execution_count": 1,
   "id": "b9887f05-a31a-436f-9ab4-93d008c9aeda",
   "metadata": {},
   "outputs": [],
   "source": [
    "from kaia.infra import FileIO\n",
    "\n",
    "lines = FileIO.read_json('files/lines.json')"
   ]
  },
  {
   "cell_type": "markdown",
   "id": "de95b8cd-a812-4965-b1c7-eef55b124553",
   "metadata": {},
   "source": [
    "I love pandas, this is why we're going to process everything with it:"
   ]
  },
  {
   "cell_type": "code",
   "execution_count": 2,
   "id": "ac3a513c-2a57-439a-9546-b09553713645",
   "metadata": {},
   "outputs": [
    {
     "data": {
      "text/html": [
       "<div>\n",
       "<style scoped>\n",
       "    .dataframe tbody tr th:only-of-type {\n",
       "        vertical-align: middle;\n",
       "    }\n",
       "\n",
       "    .dataframe tbody tr th {\n",
       "        vertical-align: top;\n",
       "    }\n",
       "\n",
       "    .dataframe thead th {\n",
       "        text-align: right;\n",
       "    }\n",
       "</style>\n",
       "<table border=\"1\" class=\"dataframe\">\n",
       "  <thead>\n",
       "    <tr style=\"text-align: right;\">\n",
       "      <th></th>\n",
       "      <th>text</th>\n",
       "      <th>sentence_id</th>\n",
       "    </tr>\n",
       "  </thead>\n",
       "  <tbody>\n",
       "    <tr>\n",
       "      <th>0</th>\n",
       "      <td>Above a darker yellow sash, she was quite bare...</td>\n",
       "      <td>0</td>\n",
       "    </tr>\n",
       "    <tr>\n",
       "      <th>1</th>\n",
       "      <td>Those leeches that he loves so well sucked all...</td>\n",
       "      <td>1</td>\n",
       "    </tr>\n",
       "    <tr>\n",
       "      <th>2</th>\n",
       "      <td>Jon told the story of how he and Robb had foun...</td>\n",
       "      <td>2</td>\n",
       "    </tr>\n",
       "    <tr>\n",
       "      <th>3</th>\n",
       "      <td>As though I were a puppy he was going to have ...</td>\n",
       "      <td>3</td>\n",
       "    </tr>\n",
       "    <tr>\n",
       "      <th>4</th>\n",
       "      <td>I told her if she caused you any bother again ...</td>\n",
       "      <td>4</td>\n",
       "    </tr>\n",
       "  </tbody>\n",
       "</table>\n",
       "</div>"
      ],
      "text/plain": [
       "                                                text  sentence_id\n",
       "0  Above a darker yellow sash, she was quite bare...            0\n",
       "1  Those leeches that he loves so well sucked all...            1\n",
       "2  Jon told the story of how he and Robb had foun...            2\n",
       "3  As though I were a puppy he was going to have ...            3\n",
       "4  I told her if she caused you any bother again ...            4"
      ]
     },
     "execution_count": 2,
     "metadata": {},
     "output_type": "execute_result"
    }
   ],
   "source": [
    "import pandas as pd\n",
    "\n",
    "sentences_df = pd.DataFrame(lines)\n",
    "sentences_df.columns=['text']\n",
    "sentences_df['sentence_id'] = list(range(sentences_df.shape[0]))\n",
    "sentences_df.head()"
   ]
  },
  {
   "cell_type": "markdown",
   "id": "2e1a7266-eede-4f83-839b-5cc416a103a3",
   "metadata": {},
   "source": [
    "Now, we want to remove all the sentences that contains weird phonemas. Here is a carefully selected, handpicked list of phonemes that are truly part of english language, in the way `espeak` writes them:"
   ]
  },
  {
   "cell_type": "code",
   "execution_count": 3,
   "id": "ae2da234-6a10-429a-ab71-fba6ab9383a0",
   "metadata": {},
   "outputs": [],
   "source": [
    "allowed_phonemes = [\n",
    "    'ɪ', 'n', 's', 't', 'k', 'ə', 'ɹ', 'l', 'd', 'm', 'æ', 'ɛ', 'z', 'p', 'b', \n",
    "    'eɪ', 'ɑː', 'ɚ', 'oʊ', 'f', 'iː', 'aɪ', 'i', 'ᵻ', 'ɡ', 'ŋ', 'uː', 'v', 'ɾ', \n",
    "    'ʃ', 'ʌ', 'dʒ', 'h', 'ɐ', 'əl', 'w', 'j', 'ɜː', 'ɑːɹ', 'tʃ', 'iə', 'θ', 'ɔː', \n",
    "    'aʊ', 'oːɹ', 'ɔːɹ', 'ʊ', 'ɔ', 'oː', 'ɔɪ', 'ʊɹ', 'ɛɹ', 'ɪɹ', 'ʒ', 'aɪɚ', 'ð', \n",
    "    'aɪə', 'ʔ', 'n̩'\n",
    "]"
   ]
  },
  {
   "cell_type": "markdown",
   "id": "78ff3197-d9fb-48af-b818-84ae855b8e27",
   "metadata": {},
   "source": [
    "Now, we need to know how to pronounce all our sentences. Here's the first pain: espeak. It is not easily installable on Windows machine. It can be done, but it's laborious. Moreover, installation of CoquiTTS on Windows is also very painful. For these reasons, I have created a docker container that we will use both for training and for phonemes extraction."
   ]
  },
  {
   "cell_type": "code",
   "execution_count": 4,
   "id": "b6b5c3b1-ef1e-4982-a484-864e98df2e6a",
   "metadata": {},
   "outputs": [],
   "source": [
    "from kaia.infra import Loc\n",
    "from kaia.ml.voice_cloning.coqui_training_container import CoquiTrainingContainerInstaller, CoquiTrainingContainerSettings\n",
    "\n",
    "FileIO.write_json(lines, Loc.data_folder/'phonemizer.input.json')\n",
    "installer = CoquiTrainingContainerInstaller(CoquiTrainingContainerSettings())\n",
    "#installer.install_if_not_installed()\n",
    "#installer.phonemize_endpoint.run()\n",
    "phonemes = FileIO.read_json(Loc.data_folder/'phonemizer.output.json')"
   ]
  },
  {
   "cell_type": "code",
   "execution_count": 5,
   "id": "48ca8e37-b13c-4e45-83e1-c674d6c60220",
   "metadata": {},
   "outputs": [
    {
     "data": {
      "text/html": [
       "<div>\n",
       "<style scoped>\n",
       "    .dataframe tbody tr th:only-of-type {\n",
       "        vertical-align: middle;\n",
       "    }\n",
       "\n",
       "    .dataframe tbody tr th {\n",
       "        vertical-align: top;\n",
       "    }\n",
       "\n",
       "    .dataframe thead th {\n",
       "        text-align: right;\n",
       "    }\n",
       "</style>\n",
       "<table border=\"1\" class=\"dataframe\">\n",
       "  <thead>\n",
       "    <tr style=\"text-align: right;\">\n",
       "      <th></th>\n",
       "      <th>text</th>\n",
       "      <th>sentence_id</th>\n",
       "      <th>phonemization</th>\n",
       "    </tr>\n",
       "  </thead>\n",
       "  <tbody>\n",
       "    <tr>\n",
       "      <th>0</th>\n",
       "      <td>Above a darker yellow sash, she was quite bare...</td>\n",
       "      <td>0</td>\n",
       "      <td>ə/b/ʌ/v ɐ d/ɑːɹ/k/ɚ j/ɛ/l/oʊ s/æ/ʃ ʃ/iː w/ʌ/z ...</td>\n",
       "    </tr>\n",
       "    <tr>\n",
       "      <th>1</th>\n",
       "      <td>Those leeches that he loves so well sucked all...</td>\n",
       "      <td>1</td>\n",
       "      <td>ð/oʊ/z l/iː/tʃ/ɪ/z ð/æ/t h/iː l/ʌ/v/z s/oʊ w/ɛ...</td>\n",
       "    </tr>\n",
       "    <tr>\n",
       "      <th>2</th>\n",
       "      <td>Jon told the story of how he and Robb had foun...</td>\n",
       "      <td>2</td>\n",
       "      <td>dʒ/ɑː/n t/oʊ/l/d ð/ə s/t/oː/ɹ/i ʌ/v h/aʊ h/iː ...</td>\n",
       "    </tr>\n",
       "    <tr>\n",
       "      <th>3</th>\n",
       "      <td>As though I were a puppy he was going to have ...</td>\n",
       "      <td>3</td>\n",
       "      <td>æ/z ð/oʊ aɪ w/ɜː/ɹ ɐ p/ʌ/p/i h/iː w/ʌ/z ɡ/oʊ/ɪ...</td>\n",
       "    </tr>\n",
       "    <tr>\n",
       "      <th>4</th>\n",
       "      <td>I told her if she caused you any bother again ...</td>\n",
       "      <td>4</td>\n",
       "      <td>aɪ t/oʊ/l/d h/ɜː ɪ/f ʃ/iː k/ɔː/z/d j/uː ɛ/n/i ...</td>\n",
       "    </tr>\n",
       "  </tbody>\n",
       "</table>\n",
       "</div>"
      ],
      "text/plain": [
       "                                                text  sentence_id  \\\n",
       "0  Above a darker yellow sash, she was quite bare...            0   \n",
       "1  Those leeches that he loves so well sucked all...            1   \n",
       "2  Jon told the story of how he and Robb had foun...            2   \n",
       "3  As though I were a puppy he was going to have ...            3   \n",
       "4  I told her if she caused you any bother again ...            4   \n",
       "\n",
       "                                       phonemization  \n",
       "0  ə/b/ʌ/v ɐ d/ɑːɹ/k/ɚ j/ɛ/l/oʊ s/æ/ʃ ʃ/iː w/ʌ/z ...  \n",
       "1  ð/oʊ/z l/iː/tʃ/ɪ/z ð/æ/t h/iː l/ʌ/v/z s/oʊ w/ɛ...  \n",
       "2  dʒ/ɑː/n t/oʊ/l/d ð/ə s/t/oː/ɹ/i ʌ/v h/aʊ h/iː ...  \n",
       "3  æ/z ð/oʊ aɪ w/ɜː/ɹ ɐ p/ʌ/p/i h/iː w/ʌ/z ɡ/oʊ/ɪ...  \n",
       "4  aɪ t/oʊ/l/d h/ɜː ɪ/f ʃ/iː k/ɔː/z/d j/uː ɛ/n/i ...  "
      ]
     },
     "execution_count": 5,
     "metadata": {},
     "output_type": "execute_result"
    }
   ],
   "source": [
    "sentences_df['phonemization'] = phonemes\n",
    "sentences_df.head()"
   ]
  },
  {
   "cell_type": "markdown",
   "id": "ec71a2fa-6037-44ef-8491-ac29ecd1173a",
   "metadata": {},
   "source": [
    "Now, we compute how many times each letter and each phoneme occurs in each sentence. This will help us to establish sentences' value. Note that for VITS training you probably can only look at phonemes, as letters won't reach the network anyway."
   ]
  },
  {
   "cell_type": "code",
   "execution_count": 6,
   "id": "dc501923-0768-416c-b4b8-c6235f32603b",
   "metadata": {},
   "outputs": [
    {
     "data": {
      "text/html": [
       "<div>\n",
       "<style scoped>\n",
       "    .dataframe tbody tr th:only-of-type {\n",
       "        vertical-align: middle;\n",
       "    }\n",
       "\n",
       "    .dataframe tbody tr th {\n",
       "        vertical-align: top;\n",
       "    }\n",
       "\n",
       "    .dataframe thead th {\n",
       "        text-align: right;\n",
       "    }\n",
       "</style>\n",
       "<table border=\"1\" class=\"dataframe\">\n",
       "  <thead>\n",
       "    <tr style=\"text-align: right;\">\n",
       "      <th></th>\n",
       "      <th>sentence_id</th>\n",
       "      <th>feature</th>\n",
       "      <th>cnt</th>\n",
       "    </tr>\n",
       "  </thead>\n",
       "  <tbody>\n",
       "    <tr>\n",
       "      <th>0</th>\n",
       "      <td>0</td>\n",
       "      <td>_a</td>\n",
       "      <td>9</td>\n",
       "    </tr>\n",
       "    <tr>\n",
       "      <th>1</th>\n",
       "      <td>0</td>\n",
       "      <td>_b</td>\n",
       "      <td>2</td>\n",
       "    </tr>\n",
       "    <tr>\n",
       "      <th>2</th>\n",
       "      <td>0</td>\n",
       "      <td>_o</td>\n",
       "      <td>5</td>\n",
       "    </tr>\n",
       "    <tr>\n",
       "      <th>3</th>\n",
       "      <td>0</td>\n",
       "      <td>_v</td>\n",
       "      <td>1</td>\n",
       "    </tr>\n",
       "    <tr>\n",
       "      <th>4</th>\n",
       "      <td>0</td>\n",
       "      <td>_e</td>\n",
       "      <td>11</td>\n",
       "    </tr>\n",
       "  </tbody>\n",
       "</table>\n",
       "</div>"
      ],
      "text/plain": [
       "   sentence_id feature  cnt\n",
       "0            0      _a    9\n",
       "1            0      _b    2\n",
       "2            0      _o    5\n",
       "3            0      _v    1\n",
       "4            0      _e   11"
      ]
     },
     "execution_count": 6,
     "metadata": {},
     "output_type": "execute_result"
    }
   ],
   "source": [
    "from kaia.ml.voice_cloning.golden_dataset.features import compute_features\n",
    "\n",
    "features_df = compute_features(sentences_df, allowed_phonemes)\n",
    "features_df.head()"
   ]
  },
  {
   "cell_type": "markdown",
   "id": "1fb5fdcc-50bf-4847-a36e-b21832f73674",
   "metadata": {},
   "source": [
    "Now we can run the alhorithm:"
   ]
  },
  {
   "cell_type": "code",
   "execution_count": 7,
   "id": "29af42e6-915a-46fa-bae1-baa884585977",
   "metadata": {},
   "outputs": [],
   "source": [
    "from kaia.ml.voice_cloning.golden_dataset.algorithm import GoldenSetAlgorithm\n",
    "\n",
    "banned_sentences_ids = [\n",
    "]\n",
    "\n",
    "banned_words = [\n",
    "\n",
    "]\n",
    "\n",
    "algorithm = GoldenSetAlgorithm(sentences_df, features_df)\n",
    "selected_sentences = algorithm.run(100, banned_sentences_ids, banned_words, False)"
   ]
  },
  {
   "cell_type": "markdown",
   "id": "2eba6043-d52e-4020-b3c2-31ae189259f4",
   "metadata": {},
   "source": [
    "We can control that the minimal amout of times the feature occures in the dataset is growing steadily:"
   ]
  },
  {
   "cell_type": "code",
   "execution_count": 8,
   "id": "35423289-78f7-4e9a-bc64-8f92fc335817",
   "metadata": {},
   "outputs": [
    {
     "data": {
      "text/plain": [
       "<Axes: >"
      ]
     },
     "execution_count": 8,
     "metadata": {},
     "output_type": "execute_result"
    },
    {
     "data": {
      "image/png": "[encoded data removed]",
      "text/plain": [
       "<Figure size 640x480 with 1 Axes>"
      ]
     },
     "metadata": {},
     "output_type": "display_data"
    }
   ],
   "source": [
    "result_df = features_df.loc[features_df.sentence_id.isin(selected_sentences)]\n",
    "result_df = result_df.pivot_table(index='sentence_id', columns='feature', values='cnt').fillna(0)\n",
    "result_df = result_df.loc[selected_sentences]\n",
    "result_df = result_df.reset_index(drop=True)\n",
    "result_df = result_df.cumsum()\n",
    "result_df.min(axis=1).plot()"
   ]
  },
  {
   "cell_type": "markdown",
   "id": "d2653e51-063f-430c-9a0f-a8f9f6d7e0e6",
   "metadata": {},
   "source": [
    "As we see, it really doesn't take a lot of lines to achieve a good representation for the phonemes and letters! "
   ]
  },
  {
   "cell_type": "code",
   "execution_count": 9,
   "id": "ed974358-52f7-4854-b8ae-b82b1c50b9b7",
   "metadata": {},
   "outputs": [],
   "source": [
    "result = algorithm.save_result(selected_sentences)"
   ]
  },
  {
   "cell_type": "markdown",
   "id": "ce205a20-4276-4610-bbd6-24b2a3990384",
   "metadata": {},
   "source": [
    "And now we can store the dataset in `files` folder:\n",
    "\n",
    "```\n",
    "FileIO.write_json(result, 'files/golden_set.json')\n",
    "```"
   ]
  }
 ],
 "metadata": {
  "kernelspec": {
   "display_name": "Python 3 (ipykernel)",
   "language": "python",
   "name": "python3"
  },
  "language_info": {
   "codemirror_mode": {
    "name": "ipython",
    "version": 3
   },
   "file_extension": ".py",
   "mimetype": "text/x-python",
   "name": "python",
   "nbconvert_exporter": "python",
   "pygments_lexer": "ipython3",
   "version": "3.11.9"
  }
 },
 "nbformat": 4,
 "nbformat_minor": 5
}
