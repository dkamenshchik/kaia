{
 "cells": [
  {
   "cell_type": "markdown",
   "id": "ba4ffb68",
   "metadata": {},
   "source": [
    "## Overview of architecture\n",
    "\n"
   ]
  },
  {
   "cell_type": "markdown",
   "id": "a2681def",
   "metadata": {},
   "source": [
    "## Running the algorithms\n",
    "\n",
    "Main concepts:\n",
    "\n",
    "* We work with _temporal variables_: we are often interested not only in the current value of the variable, but also its historical values. Such temporal variables are called _slots_ represented by the class `kaia.bro.core.Slot`. \n",
    "* The slots  for settings, sensor measurements, requested actions and intermediate variables are combined in the _space_ `kaia.bro.core.ISpace`. \n",
    "* The space is a \"software bus\" for different _units_ (callables or `kaia.bro.core.IUnit`), the units modify the `current_value` of some slots (meaning the value that is _computed_ at the time of the algorithm run), using `last_value` (meaning the value from the last algorithm's run), historical values and `current_value` of other slots.\n",
    "* The space and the set of units form a `BroAlgorithm`.\n",
    "\n",
    "We will define a simple algorithm that:\n",
    "* Monitors a \"sensor\"\n",
    "* If the value is greater than the `high_value`, the \"device\" turns on.\n",
    "* If the value is lower than the `low_value`, the \"devide\" turns off.\n",
    "* The device does not change state oftener than once per hour.\n",
    "\n",
    "First, we need to develop a state. It has to be done in a very specific way:"
   ]
  },
  {
   "cell_type": "code",
   "execution_count": 1,
   "id": "a9cbc36a",
   "metadata": {},
   "outputs": [],
   "source": [
    "from dataclasses import dataclass\n",
    "from datetime import datetime\n",
    "from kaia.bro.core import ISpace, Slot\n",
    "\n",
    "@dataclass(frozen=True)\n",
    "class ControlSpace(ISpace):\n",
    "    timestamp: Slot[datetime] = Slot.field()\n",
    "    measurement: Slot[float] = Slot.field()\n",
    "    high_value: Slot[float] = Slot.field()\n",
    "    low_value: Slot[float] = Slot.field()\n",
    "    state: Slot[bool] = Slot.field()\n",
    "    debug: Slot[str] = Slot.field()"
   ]
  },
  {
   "cell_type": "markdown",
   "id": "cd04e82c",
   "metadata": {},
   "source": [
    "These fields will be controlled in the following way:\n",
    "\n",
    "* `timestamp` is just a time when the algorithm is executed. It will be controlled with `kaia.bro.amenities.Timer`\n",
    "* `high_value` and `low_value` are settings. They will be controlled with `SettingsReader`\n",
    "* `state` will be controlled by algorithm we design\n",
    "* `measurement` should be controlled by a unit that reads sensor and sets the value to it. Since it's a demo, it will be instead computed by a mock algorithm. \n",
    "\n",
    "Let's define mock algorithm and control algorithm."
   ]
  },
  {
   "cell_type": "code",
   "execution_count": 2,
   "id": "6e15863a",
   "metadata": {},
   "outputs": [],
   "source": [
    "def get_state_duration(space: ControlSpace):\n",
    "    last_change = (space\n",
    "                   .history(space.timestamp, space.state)\n",
    "                   .where(lambda z: z.state != space.state.last_value)\n",
    "                   .select(lambda z: z.timestamp)\n",
    "                   .first_or_default()\n",
    "                  )\n",
    "    if last_change is None:\n",
    "        return None\n",
    "    return (space.timestamp.last_value - last_change).total_seconds()/3600\n",
    "    \n",
    "def control(space: ControlSpace):\n",
    "    target_state = None\n",
    "    if space.measurement.current_value > space.high_value.current_value: \n",
    "        target_state = True\n",
    "    if space.measurement.current_value < space.low_value.current_value:\n",
    "        target_state = False\n",
    "        \n",
    "    space.debug.current_value = f'target: {target_state}. '\n",
    "        \n",
    "    if space.state.history.count()==0:\n",
    "        space.state.current_value = target_state if target_state is not None else False\n",
    "        space.debug.current_value += 'First time'\n",
    "        return\n",
    "    \n",
    "    if target_state is None:\n",
    "        space.state.current_value = space.state.last_value\n",
    "        space.debug.current_value += 'No change request'\n",
    "        return \n",
    "    \n",
    "    delta = get_state_duration(space)\n",
    "    space.debug.current_value += f'Timedelta {delta}'\n",
    "    if delta is None or delta > 1:\n",
    "        space.state.current_value = target_state\n",
    "    else:\n",
    "        space.state.current_value = space.state.last_value\n",
    "\n",
    "            \n",
    "class Mock:\n",
    "    def __init__(self, measurement_change_per_minute):\n",
    "        self.measurement_change_per_minute = measurement_change_per_minute\n",
    "        \n",
    "    def __call__(self, space: ControlSpace):\n",
    "        if space.measurement.last_value is None:\n",
    "            space.measurement.current_value = 50\n",
    "            return\n",
    "        time_delta = (space.timestamp.current_value - space.timestamp.last_value).total_seconds()/60\n",
    "        value_delta = self.measurement_change_per_minute * time_delta\n",
    "        if space.state.last_value:\n",
    "            value_delta = -value_delta\n",
    "        space.measurement.current_value = space.measurement.last_value + value_delta       "
   ]
  },
  {
   "cell_type": "markdown",
   "id": "6fded4db",
   "metadata": {},
   "source": [
    "`get_state_duration` uses `space.history` method that zips several slots and yields their values as objects. The returning value of this method, as well as the method `Slot.history` is the `Queryable` from `yo_fluq_ds`, an object that decorates an iterable and adds C#-LINQ-style methods to query it. If you don't want to use LINQ methods, you can work with this object as with a simple iterable. \n",
    "\n",
    "Note that all historical methods return records/values in a reversed order, so the first value is the most recent. \n"
   ]
  },
  {
   "cell_type": "markdown",
   "id": "9c5f149b",
   "metadata": {},
   "source": [
    "## Testing the algorithm with Unit tests\n",
    "\n",
    "It is absolutely crucial to test you smart home solution if you don't want to wakeup in a ice-cold room one night. All the algorithms you develop must be stateless: it's implied by the architecture, it makes easy to restart the system. Also it's easier to test this way, because the behaviour of the system only depends on the data in the space.\n",
    "\n",
    "To prepare the data in the space for the test, use:"
   ]
  },
  {
   "cell_type": "code",
   "execution_count": 3,
   "id": "e14e8184",
   "metadata": {},
   "outputs": [],
   "source": [
    "space = ControlSpace()\n",
    "space.setup_for_test(\n",
    "    timestamp = [None],\n",
    "    measurement = [None]\n",
    ")"
   ]
  },
  {
   "cell_type": "markdown",
   "id": "431cccad",
   "metadata": {},
   "source": [
    "You may not specify all the slots, only those you need in your test. All the slots have to have the same amount of values, which also should be greater than zero. First 1..N-1 values are the historical values in the natural order, the last is the current value. \n",
    "\n",
    "Now, you can test an algorithm:"
   ]
  },
  {
   "cell_type": "code",
   "execution_count": 4,
   "id": "81a010f4",
   "metadata": {},
   "outputs": [],
   "source": [
    "mock = Mock(0.1)\n",
    "mock(space)\n",
    "assert 50 == space.measurement.current_value"
   ]
  },
  {
   "cell_type": "markdown",
   "id": "c3d460ab",
   "metadata": {},
   "source": [
    "Less trivial test:"
   ]
  },
  {
   "cell_type": "code",
   "execution_count": 5,
   "id": "649c0dbb",
   "metadata": {},
   "outputs": [],
   "source": [
    "from datetime import datetime\n",
    "\n",
    "space = ControlSpace()\n",
    "space.setup_for_test(\n",
    "    timestamp = [datetime(2022, 1, 1, 12, 0), datetime(2022,1,1,12, 2)],\n",
    "    measurement = [50, None],\n",
    "    state = [True, None]\n",
    ")\n",
    "\n",
    "\n",
    "mock = Mock(0.1)\n",
    "mock(space)\n",
    "assert space.measurement.current_value == 49.8"
   ]
  },
  {
   "cell_type": "markdown",
   "id": "d45053e9",
   "metadata": {},
   "source": [
    "Unit tests are not the only one way to test you smart home solution, more of this will come. "
   ]
  },
  {
   "cell_type": "markdown",
   "id": "ce554589",
   "metadata": {},
   "source": [
    "## Running and testing the algorithm"
   ]
  },
  {
   "cell_type": "code",
   "execution_count": 6,
   "id": "0a41a9f2",
   "metadata": {},
   "outputs": [],
   "source": [
    "from kaia.bro.core import BroAlgorithm\n",
    "from kaia.bro.amenities import SettingsReader, SettingsHandler, Timer\n",
    "\n",
    "def create_algorithm(measurement_change_per_minute):\n",
    "    space = ControlSpace()\n",
    "    algorithm = BroAlgorithm(\n",
    "        space,\n",
    "        [\n",
    "            SettingsReader(),\n",
    "            SettingsHandler(space.high_value, value=80),\n",
    "            SettingsHandler(space.low_value, value=50),\n",
    "            Timer(space.timestamp, mock_time_delta_in_seconds=10),\n",
    "            Mock(measurement_change_per_minute),\n",
    "            control\n",
    "        ],\n",
    "    )\n",
    "    return algorithm"
   ]
  },
  {
   "cell_type": "markdown",
   "id": "b3658d9d",
   "metadata": {},
   "source": [
    "Here: \n",
    "* `SettingsReader` reads settings from the communication unit. \n",
    "* `SettingsHandler` manages the values read by `SettingsReader` in a natural way: if the value was read, set it as a settings value; if it wasn't, keep the value from the previous iteration; if this is a first iteration, use default `value`.\n",
    "* `Timer` is a timer. We will use it in a test mode, so the `Timer` is going to increment timestamp by `10` seconds, regardless of the actual time.\n",
    "* `Mock` and `control` are the functions defined earlier.\n",
    "\n",
    "Now we can run this algorithm:"
   ]
  },
  {
   "cell_type": "code",
   "execution_count": 7,
   "id": "f0700710",
   "metadata": {},
   "outputs": [
    {
     "data": {
      "text/plain": [
       "<Axes: xlabel='timestamp'>"
      ]
     },
     "execution_count": 7,
     "metadata": {},
     "output_type": "execute_result"
    },
    {
     "data": {
      "image/png": "[encoded data removed]",
      "text/plain": [
       "<Figure size 640x480 with 1 Axes>"
      ]
     },
     "metadata": {},
     "output_type": "display_data"
    }
   ],
   "source": [
    "from kaia.infra.comm import FakeMessenger, FakeStorage\n",
    "\n",
    "storage = FakeStorage()\n",
    "messenger = FakeMessenger()\n",
    "algorithm = create_algorithm(1)\n",
    "for i in range(1000):\n",
    "    algorithm.iterate(storage, messenger)\n",
    "    \n",
    "df = algorithm.space.as_data_frame()\n",
    "df.set_index('timestamp').measurement.plot()"
   ]
  },
  {
   "cell_type": "markdown",
   "id": "c14b3f30",
   "metadata": {},
   "source": [
    "We see the system is \"overdried\" to the value less than 50. Let's check why it's the case:"
   ]
  },
  {
   "cell_type": "code",
   "execution_count": 8,
   "id": "d60fadd9",
   "metadata": {},
   "outputs": [
    {
     "data": {
      "text/html": [
       "<div>\n",
       "<style scoped>\n",
       "    .dataframe tbody tr th:only-of-type {\n",
       "        vertical-align: middle;\n",
       "    }\n",
       "\n",
       "    .dataframe tbody tr th {\n",
       "        vertical-align: top;\n",
       "    }\n",
       "\n",
       "    .dataframe thead th {\n",
       "        text-align: right;\n",
       "    }\n",
       "</style>\n",
       "<table border=\"1\" class=\"dataframe\">\n",
       "  <thead>\n",
       "    <tr style=\"text-align: right;\">\n",
       "      <th></th>\n",
       "      <th>timestamp</th>\n",
       "      <th>measurement</th>\n",
       "      <th>high_value</th>\n",
       "      <th>low_value</th>\n",
       "      <th>state</th>\n",
       "      <th>debug</th>\n",
       "    </tr>\n",
       "  </thead>\n",
       "  <tbody>\n",
       "    <tr>\n",
       "      <th>361</th>\n",
       "      <td>2023-10-24 13:59:20.778208</td>\n",
       "      <td>49.833333</td>\n",
       "      <td>80</td>\n",
       "      <td>50</td>\n",
       "      <td>True</td>\n",
       "      <td>target: False. Timedelta 0.5027777777777778</td>\n",
       "    </tr>\n",
       "    <tr>\n",
       "      <th>362</th>\n",
       "      <td>2023-10-24 13:59:30.778208</td>\n",
       "      <td>49.666667</td>\n",
       "      <td>80</td>\n",
       "      <td>50</td>\n",
       "      <td>True</td>\n",
       "      <td>target: False. Timedelta 0.5055555555555555</td>\n",
       "    </tr>\n",
       "    <tr>\n",
       "      <th>363</th>\n",
       "      <td>2023-10-24 13:59:40.778208</td>\n",
       "      <td>49.500000</td>\n",
       "      <td>80</td>\n",
       "      <td>50</td>\n",
       "      <td>True</td>\n",
       "      <td>target: False. Timedelta 0.5083333333333333</td>\n",
       "    </tr>\n",
       "    <tr>\n",
       "      <th>364</th>\n",
       "      <td>2023-10-24 13:59:50.778208</td>\n",
       "      <td>49.333333</td>\n",
       "      <td>80</td>\n",
       "      <td>50</td>\n",
       "      <td>True</td>\n",
       "      <td>target: False. Timedelta 0.5111111111111111</td>\n",
       "    </tr>\n",
       "    <tr>\n",
       "      <th>365</th>\n",
       "      <td>2023-10-24 14:00:00.778208</td>\n",
       "      <td>49.166667</td>\n",
       "      <td>80</td>\n",
       "      <td>50</td>\n",
       "      <td>True</td>\n",
       "      <td>target: False. Timedelta 0.5138888888888888</td>\n",
       "    </tr>\n",
       "  </tbody>\n",
       "</table>\n",
       "</div>"
      ],
      "text/plain": [
       "                     timestamp  measurement  high_value  low_value  state  \\\n",
       "361 2023-10-24 13:59:20.778208    49.833333          80         50   True   \n",
       "362 2023-10-24 13:59:30.778208    49.666667          80         50   True   \n",
       "363 2023-10-24 13:59:40.778208    49.500000          80         50   True   \n",
       "364 2023-10-24 13:59:50.778208    49.333333          80         50   True   \n",
       "365 2023-10-24 14:00:00.778208    49.166667          80         50   True   \n",
       "\n",
       "                                           debug  \n",
       "361  target: False. Timedelta 0.5027777777777778  \n",
       "362  target: False. Timedelta 0.5055555555555555  \n",
       "363  target: False. Timedelta 0.5083333333333333  \n",
       "364  target: False. Timedelta 0.5111111111111111  \n",
       "365  target: False. Timedelta 0.5138888888888888  "
      ]
     },
     "execution_count": 8,
     "metadata": {},
     "output_type": "execute_result"
    }
   ],
   "source": [
    "df.loc[df.measurement<50].head(5)"
   ]
  },
  {
   "cell_type": "markdown",
   "id": "59c6e252",
   "metadata": {},
   "source": [
    "The `debug` field helps us to understand that actually the algorithm was aware of the need to stop, but the rule limiting the frequency of the state's change prevented it. Let's try to run with a different parameter:"
   ]
  },
  {
   "cell_type": "code",
   "execution_count": 9,
   "id": "1cfef9ed",
   "metadata": {},
   "outputs": [
    {
     "data": {
      "text/plain": [
       "<Axes: xlabel='timestamp'>"
      ]
     },
     "execution_count": 9,
     "metadata": {},
     "output_type": "execute_result"
    },
    {
     "data": {
      "image/png": "[encoded data removed]",
      "text/plain": [
       "<Figure size 640x480 with 1 Axes>"
      ]
     },
     "metadata": {},
     "output_type": "display_data"
    }
   ],
   "source": [
    "storage = FakeStorage()\n",
    "messenger = FakeMessenger()\n",
    "algorithm = create_algorithm(0.5)\n",
    "for i in range(1000):\n",
    "    algorithm.iterate(storage, messenger)\n",
    "    \n",
    "df = algorithm.space.as_data_frame()\n",
    "df.set_index('timestamp').measurement.plot()"
   ]
  },
  {
   "cell_type": "markdown",
   "id": "4973f018",
   "metadata": {},
   "source": [
    "Here everything is perfect."
   ]
  }
 ],
 "metadata": {
  "kernelspec": {
   "display_name": "Python 3 (ipykernel)",
   "language": "python",
   "name": "python3"
  },
  "language_info": {
   "codemirror_mode": {
    "name": "ipython",
    "version": 3
   },
   "file_extension": ".py",
   "mimetype": "text/x-python",
   "name": "python",
   "nbconvert_exporter": "python",
   "pygments_lexer": "ipython3",
   "version": "3.11.9"
  }
 },
 "nbformat": 4,
 "nbformat_minor": 5
}
