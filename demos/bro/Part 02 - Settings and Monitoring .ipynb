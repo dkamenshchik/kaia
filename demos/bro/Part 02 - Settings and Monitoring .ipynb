{
 "cells": [
  {
   "cell_type": "markdown",
   "id": "7a4ddd59",
   "metadata": {},
   "source": [
    "In order for algorithms to be stable and not affected by other parts of the application, the algorithms should run in a different thread or even application. They should be as isolated from the rest of the Smart home, especially from its intelligent and communication components, as much as possible. But in this case, how do we monitor and control them?\n",
    "\n",
    "The communication between algorithm and the externals is performed by using SQLite. We have two classes that incapsulate SQL commands and offer high-level abstraction for them:\n",
    "\n",
    "* `IStorage` that saves all the data from spaces as unstructured data. We don't create columns for each of the space fields: first, we don't really need it; second, that would bring all sorts of the migration problems when changing these fields. Instead, we `jsonpickle` the states' current values. `jsonpickle` is used instead of `pickle` to allow reading the logs even in the absence of the source code. \n",
    "* `IMessenger` is a messaging queue: sender sends a message with various tags, and receiver can get the messages of the specified tags in a time-sorted order, and close them with replies.\n",
    "\n",
    "`IStorage`, `IMessenger` and their SQL implementations are located in `kaia.infra`.\n",
    "\n",
    "For `bro`, there are developed units that read and handle the requests to change settings that come from `IMessenger`. Also, by default, `BroAlgorithm` dumps the current values of all the fields in the space to `IStorage`.\n",
    "\n",
    "Based on this, there are two control systems created. The first is with `gradio` that shows the data from the space as an interactive plot, and allows controlling the algorithm with wegbui elements. The second is with `eaglesong` that allows some of the controlling via `Telegram`.\n",
    "\n",
    "Let's demonstrate how all this works. We will use the control bot from the previous demo. It's defined in `kaia.bro.sandbox.control_space`"
   ]
  },
  {
   "cell_type": "code",
   "execution_count": 1,
   "id": "334ce9dd",
   "metadata": {},
   "outputs": [
    {
     "data": {
      "text/plain": [
       "<Process name='Process-1' pid=9952 parent=21176 started>"
      ]
     },
     "execution_count": 1,
     "metadata": {},
     "output_type": "execute_result"
    }
   ],
   "source": [
    "from kaia.bro.sandbox.control_space import ControlSpace\n",
    "from kaia.bro.core import BroServer\n",
    "from kaia.infra.comm import Sql\n",
    "\n",
    "storage = Sql.file().storage()\n",
    "messenger = Sql.file().messenger()\n",
    "\n",
    "\n",
    "algorithm = ControlSpace().create_algorithm(0.5)\n",
    "server = BroServer([algorithm], pause_in_milliseconds=100)\n",
    "server.run_in_multiprocess(storage, messenger)"
   ]
  },
  {
   "cell_type": "markdown",
   "id": "528af5ad",
   "metadata": {},
   "source": [
    "Now the server is running in the background. Let's see the gradio interface:"
   ]
  },
  {
   "cell_type": "code",
   "execution_count": 2,
   "id": "2c661309",
   "metadata": {},
   "outputs": [
    {
     "name": "stdout",
     "output_type": "stream",
     "text": [
      "Running on local URL:  http://127.0.0.1:7860\n",
      "\n",
      "To create a public link, set `share=True` in `launch()`.\n"
     ]
    },
    {
     "data": {
      "text/html": [
       "<div><iframe src=\"http://127.0.0.1:7860/\" width=\"100%\" height=\"500\" allow=\"autoplay; camera; microphone; clipboard-read; clipboard-write;\" frameborder=\"0\" allowfullscreen></iframe></div>"
      ],
      "text/plain": [
       "<IPython.core.display.HTML object>"
      ]
     },
     "metadata": {},
     "output_type": "display_data"
    },
    {
     "data": {
      "text/plain": []
     },
     "execution_count": 2,
     "metadata": {},
     "output_type": "execute_result"
    }
   ],
   "source": [
    "from kaia.bro.amenities.gradio import GradioClient\n",
    "from kaia.bro.core import BroAlgorithmPresentation\n",
    "\n",
    "\n",
    "gradio_client = GradioClient(server.create_client(algorithm, storage, messenger), algorithm.presentation)\n",
    "interface = gradio_client.generate_interface()\n",
    "interface.launch()"
   ]
  }
 ],
 "metadata": {
  "kernelspec": {
   "display_name": "Python 3 (ipykernel)",
   "language": "python",
   "name": "python3"
  },
  "language_info": {
   "codemirror_mode": {
    "name": "ipython",
    "version": 3
   },
   "file_extension": ".py",
   "mimetype": "text/x-python",
   "name": "python",
   "nbconvert_exporter": "python",
   "pygments_lexer": "ipython3",
   "version": "3.11.9"
  }
 },
 "nbformat": 4,
 "nbformat_minor": 5
}
