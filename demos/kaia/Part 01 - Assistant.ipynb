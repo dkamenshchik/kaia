{
 "cells": [
  {
   "cell_type": "markdown",
   "id": "088f2b53-1840-4bc2-b395-f5902a83d901",
   "metadata": {},
   "source": [
    "## Introduction\n",
    "\n",
    "`kaia` is an assistant that utilizes other projects for the end-user functonality. All code in `kaia` module is run on the assistant device: a RhaspberryPi 4 with a connected medium-sized LED display and conference mic. It can, of course, also run at normal PC as well.\n",
    "\n",
    "The backbone of `kaia` is `eaglesong`. `kaia.core` defines Driver and Interpreter, a standard way to connect eaglesong to the medium. In particular, driver connects to:\n",
    "* Either full-fledged Rhasspy that has access to sound devices\n",
    "* Or an alternative `audio_control` service, my own implementation that controls the mic and the headphones. In comparison with Rhasspy, AudioControl is much smaller and hence allows experimenting with additional functionality, e.g. speaker recognition, easier.\n",
    "\n",
    "AudioControl/Rhasspy feeds every recognized utterance into eaglesong loop. Interpreter sends audio outputs to AudioControl/Rhasspy for playing, and images and text outputs are sent to the internal `KaiaGuiServer`. All this runs in the docker container on the assistant device. Outside of the container, the firefox is running in the kiosk mode. It fetches the non-audio messages from the web-server and presents them to the user.\n",
    "\n",
    "To prevent Driver and Interpreter from turning into superclasses, lots of functionality is detached from them and placed into Translators. Translators are the `eaglesong` wraps that are placed between the \"main\" routine `KaiaAssistant` and the driver/interpreter, and their function is to pre/post-process the inputs and the outputs of the `KaiaAssistant`. Exactly this is done for e.g. voiceover: if the `KaiaAssistant` produces a string, this translator intercepts this string, sends to `avatar` and turns it into an audio.\n",
    "\n",
    "`KaiaAssistant` is an `eaglesong` routine that does not depend on `avatar`, `brainbox` or anything else. The main job of `KaiaAssistant` is to dispatch the incoming messages to the _skills_, such as current time skill, wheather skill etc. So the skills are main content producers of the system, while `KaiaAssistant`, translators, driver, interpreter, webserver and the webpage inside Firefox are infractructural means to deliver this content to the user.\n",
    "\n",
    "The simplest skill is `SingleLineKaiaSkill`: such skills just process one input, return one output and that's all, so there is no lasting conversations. They are easiest two write, and lots of examples are given in `kaia.skills` folder. \n",
    "\n",
    "Sometimes we do however want a lasting conversation. While this functionality is possible and there is already a pilot implementation of it in `NotificationSkill`, it is still very new and there are a lot of questions like \"what to do if one lasting conversation is interrupted by another\". The proper orchestration of such long-lasting conversations is still pending.\n",
    "\n",
    "Now, to the testing of all this. It can be implemented on many different levels:\n",
    "* Each skill can be tested with the standard `eaglesong` testing means.\n",
    "* `KaiaAssistant` with some skills can also be tested by standard `eaglesong` means to check if the skills' interaction is proper\n",
    "* `KaiaAssistant` with skills and translators can be tested by `eaglesong` means, if mock web servers for Avatar and Brainbox are set. Both services are supplied with `*TestApi` that allows to run them in place of tests.\n",
    "* The system as a whole, including Brainbox, Avatar and AudioControl can be tested thanks to the mock functionality of AudioControl, that fakes a mic and process wav-files.\n",
    "\n",
    "### Demo\n",
    "\n",
    "Such tested and runnable variant of the assistant is placed in `my/demo` folder. It contains a minimal working example of Kaia. "
   ]
  }
 ],
 "metadata": {
  "kernelspec": {
   "display_name": "Python 3 (ipykernel)",
   "language": "python",
   "name": "python3"
  },
  "language_info": {
   "codemirror_mode": {
    "name": "ipython",
    "version": 3
   },
   "file_extension": ".py",
   "mimetype": "text/x-python",
   "name": "python",
   "nbconvert_exporter": "python",
   "pygments_lexer": "ipython3",
   "version": "3.11.9"
  }
 },
 "nbformat": 4,
 "nbformat_minor": 5
}
